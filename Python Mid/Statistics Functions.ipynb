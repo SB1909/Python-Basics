{
 "cells": [
  {
   "cell_type": "code",
   "execution_count": 1,
   "id": "3776df8a",
   "metadata": {},
   "outputs": [],
   "source": [
    "def mean(Data):\n",
    "    N=int(len(Data))\n",
    "    summ=0\n",
    "    for i in Data:\n",
    "        summ=i+summ\n",
    "    mean=summ/N\n",
    "    return mean"
   ]
  },
  {
   "cell_type": "code",
   "execution_count": 2,
   "id": "95e218f3",
   "metadata": {},
   "outputs": [],
   "source": [
    "def median(Data):\n",
    "    Data.sort()\n",
    "    N=int(len(Data))\n",
    "    if N%2==0:\n",
    "        median=(Data[int(N/2)-1]+Data[(int(N/2)+1)-1])/2\n",
    "    else:\n",
    "        median=Data[int((N+1)/2)-1]\n",
    "    return median"
   ]
  },
  {
   "cell_type": "code",
   "execution_count": 3,
   "id": "5c830b3c",
   "metadata": {},
   "outputs": [],
   "source": [
    "def mode(Data):\n",
    "    count_dic={}\n",
    "    for i in Data:\n",
    "        c=Data.count(i)\n",
    "        count_dic[i]=c\n",
    "    mode=max(count_dic,key=count_dic.get)\n",
    "    return mode"
   ]
  },
  {
   "cell_type": "code",
   "execution_count": 4,
   "id": "2aa783b7",
   "metadata": {},
   "outputs": [],
   "source": [
    "def rng(Data):\n",
    "    r=max(Data)-min(Data)\n",
    "    return r"
   ]
  },
  {
   "cell_type": "code",
   "execution_count": 5,
   "id": "0dac2be5",
   "metadata": {},
   "outputs": [],
   "source": [
    "def qurt(Data):\n",
    "    Data.sort()\n",
    "    N=int(len(Data))\n",
    "    Q1=Data[int((N+1)/4)]\n",
    "    Q2=Data[int((N+1)/2)]\n",
    "    Q3=Data[int((3*(N+1))/4)]\n",
    "    IQR=Q3-Q1\n",
    "    return Q1,Q2,Q3,IQR"
   ]
  },
  {
   "cell_type": "code",
   "execution_count": 6,
   "id": "917fbd10",
   "metadata": {},
   "outputs": [],
   "source": [
    "def deviation(Data):\n",
    "    Dev=[]\n",
    "    for i in Data:\n",
    "        dev=i-mean(X)\n",
    "        Dev.append(dev)\n",
    "    return Dev"
   ]
  },
  {
   "cell_type": "code",
   "execution_count": 7,
   "id": "54ce5ebc",
   "metadata": {},
   "outputs": [],
   "source": [
    "def var(Data):\n",
    "    N=int(len(Data))\n",
    "    diff=[]\n",
    "    for i in Data:\n",
    "        diff_1=(i-mean(X))**2\n",
    "        diff.append(diff_1)\n",
    "    summ_sq_diff=0\n",
    "    for i in range(N):\n",
    "        summ_sq_diff+=diff[i]\n",
    "    var=summ_sq_diff/N\n",
    "    return var"
   ]
  },
  {
   "cell_type": "code",
   "execution_count": 8,
   "id": "4d7dae01",
   "metadata": {},
   "outputs": [],
   "source": [
    "def std_dev(Data):\n",
    "    std_dev=(var(Data))**0.5\n",
    "    return std_dev"
   ]
  },
  {
   "cell_type": "code",
   "execution_count": 9,
   "id": "a655f07d",
   "metadata": {},
   "outputs": [],
   "source": [
    "def covariance(x,y):\n",
    "    N=int(len(x))\n",
    "    diff1=[]\n",
    "    for i in x:\n",
    "        diff_1=int(i-mean(x))\n",
    "        diff1.append(diff_1)\n",
    "    diff2=[]\n",
    "    for k in y:\n",
    "        diff_2=int(i-mean(y))\n",
    "        diff2.append(diff_2)\n",
    "    sum_prd_diff=0\n",
    "    for j in range(N):\n",
    "        sum_prd_diff+=diff1[j]*diff2[j]\n",
    "    \n",
    "    cov=sum_prd_diff/N\n",
    "    if cov>0:\n",
    "        print(\"Direct relationship between x & y and value of covariance:\",cov)\n",
    "    elif cov<0:\n",
    "        print(\"Direct relationship between x & y and value of covariance:\",cov)\n",
    "    else:\n",
    "        print(\"x & y are independent to each other and Value of covariance:\",cov)\n",
    "    return cov"
   ]
  },
  {
   "cell_type": "code",
   "execution_count": 10,
   "id": "14b33983",
   "metadata": {},
   "outputs": [],
   "source": [
    "def corelation(x,y):\n",
    "    N=int(len(x))\n",
    "    diff1=[]\n",
    "    diff1_sq=[]\n",
    "    for i in x:\n",
    "        diff_1=int(i-mean(x))\n",
    "        diff1.append(diff_1)\n",
    "        sq1=diff_1**2\n",
    "        diff1_sq.append(sq1)\n",
    "    diff2=[]\n",
    "    diff2_sq=[]\n",
    "    for k in y:\n",
    "        diff_2=int(i-mean(y))\n",
    "        diff2.append(diff_2)\n",
    "        sq2=diff_2**2\n",
    "        diff2_sq.append(sq2)\n",
    "    sum_prd_diff=0\n",
    "    sum_sq_diff1=0\n",
    "    sum_sq_diff2=0\n",
    "    for j in range(N):\n",
    "        sum_prd_diff+=diff1[j]*diff2[j]\n",
    "        sum_sq_diff1+=diff1_sq[j]\n",
    "        sum_sq_diff2+=diff2_sq[j]\n",
    "    crl=sum_prd_diff/((sum_sq_diff1*sum_sq_diff2)**0.5)\n",
    "    if 0.5<=crl<=1:\n",
    "        print(\"There is strong direct relation between x & y and value of corelation:\",crl)\n",
    "    elif -0.5<crl<0.5:\n",
    "        print(\"x has minimal effect on y and value of corelation:\",crl)\n",
    "    elif -1<=crl<=-0.5:\n",
    "        print(\"There is strong indirect relation between x & y and value of corelation:\",crl)\n",
    "    return crl"
   ]
  },
  {
   "cell_type": "code",
   "execution_count": 11,
   "id": "9453f720",
   "metadata": {},
   "outputs": [
    {
     "name": "stdout",
     "output_type": "stream",
     "text": [
      "Enter a elements seprated by space:2 3 4 5 6 7 8\n",
      "[2, 3, 4, 5, 6, 7, 8]\n",
      "Mean: 5.0\n",
      "Median 5\n",
      "Mode: 2\n",
      "Range: 6\n",
      "Quartiles Q1,Q2,Q3 and IQR resp.: (4, 6, 8, 4)\n",
      "Deviation for each point: [-3.0, -2.0, -1.0, 0.0, 1.0, 2.0, 3.0]\n",
      "Variance: 4.0\n",
      "Standard Deviation: 2.0\n"
     ]
    }
   ],
   "source": [
    "x=list(map(int,input(\"Enter a elements seprated by space:\").split(' ')))\n",
    "print(x)\n",
    "\n",
    "print(\"Mean:\",mean(x))\n",
    "print(\"Median\",median(x))\n",
    "print(\"Mode:\",mode(x))\n",
    "print(\"Range:\",rng(x))\n",
    "print(\"Quartiles Q1,Q2,Q3 and IQR resp.:\",qurt(x))\n",
    "print(\"Deviation for each point:\",deviation(x))\n",
    "print(\"Variance:\",var(x))\n",
    "print(\"Standard Deviation:\",std_dev(x))"
   ]
  },
  {
   "cell_type": "code",
   "execution_count": 16,
   "id": "b0fa41ab",
   "metadata": {},
   "outputs": [
    {
     "name": "stdout",
     "output_type": "stream",
     "text": [
      "Enter a elements of first data seprated by space:1 2 3 4 5\n",
      "[1, 2, 3, 4, 5]\n",
      "Enter a elements of second data seprated by space:6 7 8 9 10\n",
      "[6, 7, 8, 9, 10]\n",
      "x has minimal effect on y and value of corelation: 0.0\n"
     ]
    },
    {
     "data": {
      "text/plain": [
       "0.0"
      ]
     },
     "execution_count": 16,
     "metadata": {},
     "output_type": "execute_result"
    }
   ],
   "source": [
    "a=list(map(int,input(\"Enter a elements of first data seprated by space:\").split(' ')))\n",
    "print(a)\n",
    "b=list(map(int,input(\"Enter a elements of second data seprated by space:\").split(' ')))\n",
    "print(b)\n",
    "covariance(a,b)\n",
    "corelation(a,b)"
   ]
  },
  {
   "cell_type": "code",
   "execution_count": 12,
   "id": "53aab7a9",
   "metadata": {},
   "outputs": [
    {
     "name": "stdout",
     "output_type": "stream",
     "text": [
      "x & y are independent to each other and Value of covariance: 0.0\n",
      "x has minimal effect on y and value of corelation: 0.0\n",
      "BSE has minimal effect on stock price of company, Low Risk\n"
     ]
    }
   ],
   "source": [
    "BSE=[12400,16500,17200,18000,21000]\n",
    "price=[60,100,300,350,440]\n",
    "covariance(BSE,price)\n",
    "crl=corelation(BSE,price)\n",
    "if 0.5<=crl<=1:\n",
    "    print(\"There is strong direct relation between BSE & stock price of comppany, High risk\")\n",
    "elif -0.5<crl<0.5:\n",
    "    print(\"BSE has minimal effect on stock price of company, Low Risk\")\n",
    "elif -1<=crl<=-0.5:\n",
    "    print(\"There is strong indirect relation between BSE & stock price of comppany, High risk\")"
   ]
  },
  {
   "cell_type": "code",
   "execution_count": null,
   "id": "66a862da",
   "metadata": {},
   "outputs": [],
   "source": []
  },
  {
   "cell_type": "code",
   "execution_count": null,
   "id": "e0999e42",
   "metadata": {},
   "outputs": [],
   "source": []
  }
 ],
 "metadata": {
  "kernelspec": {
   "display_name": "Python 3 (ipykernel)",
   "language": "python",
   "name": "python3"
  },
  "language_info": {
   "codemirror_mode": {
    "name": "ipython",
    "version": 3
   },
   "file_extension": ".py",
   "mimetype": "text/x-python",
   "name": "python",
   "nbconvert_exporter": "python",
   "pygments_lexer": "ipython3",
   "version": "3.8.10"
  }
 },
 "nbformat": 4,
 "nbformat_minor": 5
}
