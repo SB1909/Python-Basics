{
 "cells": [
  {
   "cell_type": "code",
   "execution_count": 1,
   "id": "58004b1a",
   "metadata": {},
   "outputs": [],
   "source": [
    "# Total derivative by taking derivative first then replacing vakues of x and y:"
   ]
  },
  {
   "cell_type": "code",
   "execution_count": 2,
   "id": "77020a18",
   "metadata": {},
   "outputs": [],
   "source": [
    "from sympy import* \n",
    "x,y,z,t=symbols(\"x y z t\")"
   ]
  },
  {
   "cell_type": "code",
   "execution_count": 3,
   "id": "276decd4",
   "metadata": {},
   "outputs": [],
   "source": [
    "f=x**(1/2)/y"
   ]
  },
  {
   "cell_type": "code",
   "execution_count": 4,
   "id": "7c2efcca",
   "metadata": {},
   "outputs": [
    {
     "data": {
      "text/latex": [
       "$\\displaystyle \\frac{0.5}{x^{0.5} y}$"
      ],
      "text/plain": [
       "0.5/(x**0.5*y)"
      ]
     },
     "execution_count": 4,
     "metadata": {},
     "output_type": "execute_result"
    }
   ],
   "source": [
    "#df/dx\n",
    "\n",
    "part_der_x=f.diff(x)\n",
    "part_der_x"
   ]
  },
  {
   "cell_type": "code",
   "execution_count": 5,
   "id": "1fe2e3aa",
   "metadata": {},
   "outputs": [
    {
     "data": {
      "text/latex": [
       "$\\displaystyle - \\frac{x^{0.5}}{y^{2}}$"
      ],
      "text/plain": [
       "-x**0.5/y**2"
      ]
     },
     "execution_count": 5,
     "metadata": {},
     "output_type": "execute_result"
    }
   ],
   "source": [
    "#df/dy\n",
    "\n",
    "part_der_y=f.diff(y)\n",
    "part_der_y"
   ]
  },
  {
   "cell_type": "code",
   "execution_count": 6,
   "id": "834649db",
   "metadata": {},
   "outputs": [
    {
     "data": {
      "text/latex": [
       "$\\displaystyle 1$"
      ],
      "text/plain": [
       "1"
      ]
     },
     "execution_count": 6,
     "metadata": {},
     "output_type": "execute_result"
    }
   ],
   "source": [
    "#dx/dt\n",
    "\n",
    "p=diff(t,t)\n",
    "p"
   ]
  },
  {
   "cell_type": "code",
   "execution_count": 7,
   "id": "ac64288e",
   "metadata": {},
   "outputs": [
    {
     "data": {
      "text/latex": [
       "$\\displaystyle 2 t \\cos{\\left(t^{2} \\right)}$"
      ],
      "text/plain": [
       "2*t*cos(t**2)"
      ]
     },
     "execution_count": 7,
     "metadata": {},
     "output_type": "execute_result"
    }
   ],
   "source": [
    "#dy/dt\n",
    "\n",
    "q=sin(t**2).diff(t)\n",
    "q"
   ]
  },
  {
   "cell_type": "code",
   "execution_count": 8,
   "id": "7f7bf340",
   "metadata": {},
   "outputs": [
    {
     "data": {
      "text/latex": [
       "$\\displaystyle - \\frac{2 t x^{0.5} \\cos{\\left(t^{2} \\right)}}{y^{2}} + \\frac{0.5}{x^{0.5} y}$"
      ],
      "text/plain": [
       "-2*t*x**0.5*cos(t**2)/y**2 + 0.5/(x**0.5*y)"
      ]
     },
     "execution_count": 8,
     "metadata": {},
     "output_type": "execute_result"
    }
   ],
   "source": [
    "#df/dt:\n",
    "\n",
    "Total_D=(part_der_x*p)+(part_der_y*q)\n",
    "Total_D"
   ]
  },
  {
   "cell_type": "code",
   "execution_count": 9,
   "id": "b7cba995",
   "metadata": {},
   "outputs": [
    {
     "data": {
      "text/latex": [
       "$\\displaystyle \\frac{0.5}{t^{0.5} y} - \\frac{2 t^{1.5} \\cos{\\left(t^{2} \\right)}}{y^{2}}$"
      ],
      "text/plain": [
       "0.5/(t**0.5*y) - 2*t**1.5*cos(t**2)/y**2"
      ]
     },
     "execution_count": 9,
     "metadata": {},
     "output_type": "execute_result"
    }
   ],
   "source": [
    "#replacing value of x\n",
    "subs_x=Total_D.subs(x,t)\n",
    "subs_x"
   ]
  },
  {
   "cell_type": "code",
   "execution_count": 10,
   "id": "b6e8992c",
   "metadata": {},
   "outputs": [
    {
     "data": {
      "text/latex": [
       "$\\displaystyle \\frac{0.5}{t^{0.5} \\sin{\\left(t^{2} \\right)}} - \\frac{2 t^{1.5} \\cos{\\left(t^{2} \\right)}}{\\sin^{2}{\\left(t^{2} \\right)}}$"
      ],
      "text/plain": [
       "0.5/(t**0.5*sin(t**2)) - 2*t**1.5*cos(t**2)/sin(t**2)**2"
      ]
     },
     "execution_count": 10,
     "metadata": {},
     "output_type": "execute_result"
    }
   ],
   "source": [
    "#replacing value of y\n",
    "subs_y=subs_x.subs(y,sin(t**2))\n",
    "subs_y"
   ]
  },
  {
   "cell_type": "code",
   "execution_count": null,
   "id": "a649dd03",
   "metadata": {},
   "outputs": [],
   "source": []
  },
  {
   "cell_type": "code",
   "execution_count": null,
   "id": "0d0f86e8",
   "metadata": {},
   "outputs": [],
   "source": []
  }
 ],
 "metadata": {
  "kernelspec": {
   "display_name": "Python 3 (ipykernel)",
   "language": "python",
   "name": "python3"
  },
  "language_info": {
   "codemirror_mode": {
    "name": "ipython",
    "version": 3
   },
   "file_extension": ".py",
   "mimetype": "text/x-python",
   "name": "python",
   "nbconvert_exporter": "python",
   "pygments_lexer": "ipython3",
   "version": "3.8.10"
  }
 },
 "nbformat": 4,
 "nbformat_minor": 5
}
