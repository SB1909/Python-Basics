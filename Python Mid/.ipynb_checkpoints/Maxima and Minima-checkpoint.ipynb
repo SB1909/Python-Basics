{
 "cells": [
  {
   "cell_type": "code",
   "execution_count": 1,
   "id": "e5ec197a",
   "metadata": {},
   "outputs": [],
   "source": [
    "from sympy import*"
   ]
  },
  {
   "cell_type": "code",
   "execution_count": 2,
   "id": "7a3f67bb",
   "metadata": {},
   "outputs": [],
   "source": [
    "x=symbols('x')\n",
    "f=x**4-24*x**2+80"
   ]
  },
  {
   "cell_type": "code",
   "execution_count": 3,
   "id": "e87c22fa",
   "metadata": {},
   "outputs": [
    {
     "data": {
      "text/latex": [
       "$\\displaystyle 4 x^{3} - 48 x$"
      ],
      "text/plain": [
       "4*x**3 - 48*x"
      ]
     },
     "execution_count": 3,
     "metadata": {},
     "output_type": "execute_result"
    }
   ],
   "source": [
    "fd=diff(f,x)\n",
    "fd"
   ]
  },
  {
   "cell_type": "code",
   "execution_count": 4,
   "id": "57b9ee64",
   "metadata": {},
   "outputs": [
    {
     "data": {
      "text/latex": [
       "$\\displaystyle \\left\\{0, - 2 \\sqrt{3}, 2 \\sqrt{3}\\right\\}$"
      ],
      "text/plain": [
       "{0, -2*sqrt(3), 2*sqrt(3)}"
      ]
     },
     "execution_count": 4,
     "metadata": {},
     "output_type": "execute_result"
    }
   ],
   "source": [
    "roots=solveset(fd,x)\n",
    "roots"
   ]
  },
  {
   "cell_type": "code",
   "execution_count": 5,
   "id": "9e754e7e",
   "metadata": {},
   "outputs": [
    {
     "data": {
      "text/latex": [
       "$\\displaystyle 12 x^{2} - 48$"
      ],
      "text/plain": [
       "12*x**2 - 48"
      ]
     },
     "execution_count": 5,
     "metadata": {},
     "output_type": "execute_result"
    }
   ],
   "source": [
    "sd=diff(fd,x)\n",
    "sd"
   ]
  },
  {
   "cell_type": "code",
   "execution_count": 6,
   "id": "2bdb3cb0",
   "metadata": {},
   "outputs": [
    {
     "data": {
      "text/plain": [
       "[-48, 96, 96]"
      ]
     },
     "execution_count": 6,
     "metadata": {},
     "output_type": "execute_result"
    }
   ],
   "source": [
    "a=[sd.subs(x,_) for _ in roots]\n",
    "a"
   ]
  },
  {
   "cell_type": "code",
   "execution_count": 8,
   "id": "1fca89d2",
   "metadata": {},
   "outputs": [
    {
     "name": "stdout",
     "output_type": "stream",
     "text": [
      "Maxima\n",
      "Minima\n",
      "Minima\n"
     ]
    }
   ],
   "source": [
    "for i in a: \n",
    "    if i>0:\n",
    "        print(\"Minima\")\n",
    "    elif i<0:\n",
    "        print(\"Maxima\")\n",
    "    else:\n",
    "        print(\"Point of Inflection\")"
   ]
  },
  {
   "cell_type": "code",
   "execution_count": null,
   "id": "f9b9911d",
   "metadata": {},
   "outputs": [],
   "source": []
  }
 ],
 "metadata": {
  "kernelspec": {
   "display_name": "Python 3 (ipykernel)",
   "language": "python",
   "name": "python3"
  },
  "language_info": {
   "codemirror_mode": {
    "name": "ipython",
    "version": 3
   },
   "file_extension": ".py",
   "mimetype": "text/x-python",
   "name": "python",
   "nbconvert_exporter": "python",
   "pygments_lexer": "ipython3",
   "version": "3.8.10"
  }
 },
 "nbformat": 4,
 "nbformat_minor": 5
}
