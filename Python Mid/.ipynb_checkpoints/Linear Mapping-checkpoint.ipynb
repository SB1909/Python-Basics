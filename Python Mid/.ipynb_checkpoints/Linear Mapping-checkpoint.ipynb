{
 "cells": [
  {
   "cell_type": "code",
   "execution_count": 12,
   "id": "68b08b36",
   "metadata": {},
   "outputs": [],
   "source": [
    "import numpy as np\n",
    "import sympy"
   ]
  },
  {
   "cell_type": "markdown",
   "id": "1415270a",
   "metadata": {},
   "source": [
    "Reversal Matrix Transformation:-"
   ]
  },
  {
   "cell_type": "code",
   "execution_count": 31,
   "id": "4ec9e13e",
   "metadata": {},
   "outputs": [
    {
     "data": {
      "text/plain": [
       "array([[0, 0, 1],\n",
       "       [0, 1, 0],\n",
       "       [1, 0, 0]])"
      ]
     },
     "execution_count": 31,
     "metadata": {},
     "output_type": "execute_result"
    }
   ],
   "source": [
    "T=np.array([[0,0,1],[0,1,0],[1,0,0]])\n",
    "T"
   ]
  },
  {
   "cell_type": "code",
   "execution_count": 32,
   "id": "10ed8c35",
   "metadata": {},
   "outputs": [
    {
     "data": {
      "text/plain": [
       "array([[-1],\n",
       "       [ 0],\n",
       "       [ 1]])"
      ]
     },
     "execution_count": 32,
     "metadata": {},
     "output_type": "execute_result"
    }
   ],
   "source": [
    "X=np.array([[-1],[0],[1]])\n",
    "X"
   ]
  },
  {
   "cell_type": "code",
   "execution_count": 33,
   "id": "54b84d30",
   "metadata": {},
   "outputs": [
    {
     "data": {
      "text/plain": [
       "array([[ 1],\n",
       "       [ 0],\n",
       "       [-1]])"
      ]
     },
     "execution_count": 33,
     "metadata": {},
     "output_type": "execute_result"
    }
   ],
   "source": [
    "Y=np.array([[1],[0],[-1]])\n",
    "Y"
   ]
  },
  {
   "cell_type": "markdown",
   "id": "c0382942",
   "metadata": {},
   "source": [
    "Checking for First condition:"
   ]
  },
  {
   "cell_type": "code",
   "execution_count": 43,
   "id": "d1134987",
   "metadata": {},
   "outputs": [
    {
     "data": {
      "text/plain": [
       "(array([[0],\n",
       "        [0],\n",
       "        [0]]),\n",
       " array([[0],\n",
       "        [0],\n",
       "        [0]]))"
      ]
     },
     "execution_count": 43,
     "metadata": {},
     "output_type": "execute_result"
    }
   ],
   "source": [
    "LHS1=T.T@(X+Y)\n",
    "RHS1=(T.T@X)+(T.T@Y)\n",
    "LHS1,RHS1"
   ]
  },
  {
   "cell_type": "code",
   "execution_count": 44,
   "id": "596bf050",
   "metadata": {},
   "outputs": [
    {
     "name": "stdout",
     "output_type": "stream",
     "text": [
      "First condition is satiesfied\n",
      "\n"
     ]
    }
   ],
   "source": [
    "if (LHS1==RHS1).all():\n",
    "    print(\"First condition is satiesfied\\n\")\n",
    "else:\n",
    "    print(\"First condition is not satiesfied\")"
   ]
  },
  {
   "cell_type": "markdown",
   "id": "82affb55",
   "metadata": {},
   "source": [
    "Checking for Second condition:"
   ]
  },
  {
   "cell_type": "code",
   "execution_count": 45,
   "id": "b298aa5c",
   "metadata": {},
   "outputs": [
    {
     "data": {
      "text/plain": [
       "(array([[ 2],\n",
       "        [ 0],\n",
       "        [-2]]),\n",
       " array([[ 2],\n",
       "        [ 0],\n",
       "        [-2]]))"
      ]
     },
     "execution_count": 45,
     "metadata": {},
     "output_type": "execute_result"
    }
   ],
   "source": [
    "a=2\n",
    "LHS2=T.T@(a*X)\n",
    "RHS2=a*(T.T@X)\n",
    "LHS2,RHS2"
   ]
  },
  {
   "cell_type": "code",
   "execution_count": 47,
   "id": "f37f2d5e",
   "metadata": {},
   "outputs": [
    {
     "name": "stdout",
     "output_type": "stream",
     "text": [
      "Second condition is satiesfied.\n"
     ]
    }
   ],
   "source": [
    "if (LHS2==RHS2).all():\n",
    "    print(\"Second condition is satiesfied.\")\n",
    "else:\n",
    "    print(\"Second condition is not satiesfied.\")"
   ]
  },
  {
   "cell_type": "code",
   "execution_count": 48,
   "id": "9c6b6d56",
   "metadata": {},
   "outputs": [
    {
     "name": "stdout",
     "output_type": "stream",
     "text": [
      "Linear Mapping conditions are satiesfied\n"
     ]
    }
   ],
   "source": [
    "if (LHS2==RHS2).all() and (LHS1==RHS1).all():\n",
    "    print(\"Linear Mapping conditions are satiesfied\")\n",
    "else:\n",
    "    print(\"Linear Mapping conditions are not satiesfied\")"
   ]
  },
  {
   "cell_type": "code",
   "execution_count": null,
   "id": "8559a318",
   "metadata": {},
   "outputs": [],
   "source": []
  }
 ],
 "metadata": {
  "kernelspec": {
   "display_name": "Python 3 (ipykernel)",
   "language": "python",
   "name": "python3"
  },
  "language_info": {
   "codemirror_mode": {
    "name": "ipython",
    "version": 3
   },
   "file_extension": ".py",
   "mimetype": "text/x-python",
   "name": "python",
   "nbconvert_exporter": "python",
   "pygments_lexer": "ipython3",
   "version": "3.8.10"
  }
 },
 "nbformat": 4,
 "nbformat_minor": 5
}
