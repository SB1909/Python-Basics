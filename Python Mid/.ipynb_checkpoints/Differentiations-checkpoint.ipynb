{
 "cells": [
  {
   "cell_type": "code",
   "execution_count": 2,
   "id": "5d40a4f4",
   "metadata": {},
   "outputs": [],
   "source": [
    "from sympy import*   #use * for importing all functions so we can use directly (not as sympy.Matrix)\n",
    "x,y,z,t=symbols(\"x y z t\")"
   ]
  },
  {
   "cell_type": "code",
   "execution_count": 2,
   "id": "9b459872",
   "metadata": {},
   "outputs": [
    {
     "data": {
      "text/latex": [
       "$\\displaystyle 24 x^{7}$"
      ],
      "text/plain": [
       "24*x**7"
      ]
     },
     "execution_count": 2,
     "metadata": {},
     "output_type": "execute_result"
    }
   ],
   "source": [
    "x=symbols('x')\n",
    "\n",
    "#power rule\n",
    "\n",
    "diff(3*x**8,x)  "
   ]
  },
  {
   "cell_type": "code",
   "execution_count": 3,
   "id": "27849c17",
   "metadata": {},
   "outputs": [
    {
     "data": {
      "text/latex": [
       "$\\displaystyle - \\cos{\\left(x \\right)}$"
      ],
      "text/plain": [
       "-cos(x)"
      ]
     },
     "execution_count": 3,
     "metadata": {},
     "output_type": "execute_result"
    }
   ],
   "source": [
    "#2 times variable for double detivative\n",
    "diff(cos(x),x,x)   "
   ]
  },
  {
   "cell_type": "code",
   "execution_count": 4,
   "id": "594f7009",
   "metadata": {},
   "outputs": [
    {
     "data": {
      "text/latex": [
       "$\\displaystyle 3 x^{2} + 32 x - 19$"
      ],
      "text/plain": [
       "3*x**2 + 32*x - 19"
      ]
     },
     "execution_count": 4,
     "metadata": {},
     "output_type": "execute_result"
    }
   ],
   "source": [
    "#sum rule\n",
    "\n",
    "diff(x**3+16*x**2-19*x,x) "
   ]
  },
  {
   "cell_type": "code",
   "execution_count": 5,
   "id": "1359b28b",
   "metadata": {},
   "outputs": [
    {
     "data": {
      "text/latex": [
       "$\\displaystyle \\left(2 x + 3\\right) \\cos{\\left(x \\right)} - \\left(x^{2} + 3 x\\right) \\sin{\\left(x \\right)}$"
      ],
      "text/plain": [
       "(2*x + 3)*cos(x) - (x**2 + 3*x)*sin(x)"
      ]
     },
     "execution_count": 5,
     "metadata": {},
     "output_type": "execute_result"
    }
   ],
   "source": [
    "#product rule\n",
    "\n",
    "diff(cos(x)*(x**2+3*x)) "
   ]
  },
  {
   "cell_type": "code",
   "execution_count": 6,
   "id": "2a788938",
   "metadata": {},
   "outputs": [
    {
     "data": {
      "text/latex": [
       "$\\displaystyle 2 x \\left(\\sin{\\left(x \\right)} + \\cos{\\left(x \\right)}\\right) \\cos{\\left(x^{2} + 2 \\right)} + \\left(- \\sin{\\left(x \\right)} + \\cos{\\left(x \\right)}\\right) \\sin{\\left(x^{2} + 2 \\right)}$"
      ],
      "text/plain": [
       "2*x*(sin(x) + cos(x))*cos(x**2 + 2) + (-sin(x) + cos(x))*sin(x**2 + 2)"
      ]
     },
     "execution_count": 6,
     "metadata": {},
     "output_type": "execute_result"
    }
   ],
   "source": [
    "diff((sin(x)+cos(x))*(sin(x**2+2)),x)"
   ]
  },
  {
   "cell_type": "code",
   "execution_count": 7,
   "id": "881a74c1",
   "metadata": {},
   "outputs": [
    {
     "data": {
      "text/latex": [
       "$\\displaystyle - \\sin{\\left(\\sin{\\left(x \\right)} \\right)} \\cos{\\left(x \\right)}$"
      ],
      "text/plain": [
       "-sin(sin(x))*cos(x)"
      ]
     },
     "execution_count": 7,
     "metadata": {},
     "output_type": "execute_result"
    }
   ],
   "source": [
    "#chain rule\n",
    "\n",
    "diff(cos(sin(x)),x)"
   ]
  },
  {
   "cell_type": "markdown",
   "id": "56075e97",
   "metadata": {},
   "source": [
    "."
   ]
  },
  {
   "cell_type": "code",
   "execution_count": 8,
   "id": "dfddbfd2",
   "metadata": {},
   "outputs": [
    {
     "data": {
      "text/latex": [
       "$\\displaystyle 14 x \\left(x^{2} + 1\\right)^{6}$"
      ],
      "text/plain": [
       "14*x*(x**2 + 1)**6"
      ]
     },
     "execution_count": 8,
     "metadata": {},
     "output_type": "execute_result"
    }
   ],
   "source": [
    "#Q.1\n",
    "\n",
    "diff(((x**2+1)**7),x)"
   ]
  },
  {
   "cell_type": "code",
   "execution_count": 9,
   "id": "29b9b7fd",
   "metadata": {},
   "outputs": [
    {
     "data": {
      "text/latex": [
       "$\\displaystyle \\frac{2 \\sin{\\left(x \\right)} + 2 \\cos{\\left(x \\right)}}{\\left(- \\sin{\\left(x \\right)} + \\cos{\\left(x \\right)}\\right)^{3}}$"
      ],
      "text/plain": [
       "(2*sin(x) + 2*cos(x))/(-sin(x) + cos(x))**3"
      ]
     },
     "execution_count": 9,
     "metadata": {},
     "output_type": "execute_result"
    }
   ],
   "source": [
    "#Q.2\n",
    "\n",
    "diff((cos(x)-sin(x))**(-2),x)"
   ]
  },
  {
   "cell_type": "code",
   "execution_count": 10,
   "id": "6b145579",
   "metadata": {},
   "outputs": [
    {
     "data": {
      "text/latex": [
       "$\\displaystyle \\left(495 x^{4} + 99 e^{x}\\right) \\left(x^{5} + e^{x}\\right)^{98}$"
      ],
      "text/plain": [
       "(495*x**4 + 99*exp(x))*(x**5 + exp(x))**98"
      ]
     },
     "execution_count": 10,
     "metadata": {},
     "output_type": "execute_result"
    }
   ],
   "source": [
    "#exponential\n",
    "#Q.3\n",
    "\n",
    "diff(((x**5+exp(x))**99),x)"
   ]
  },
  {
   "cell_type": "code",
   "execution_count": 11,
   "id": "81967ab8",
   "metadata": {},
   "outputs": [
    {
     "data": {
      "text/latex": [
       "$\\displaystyle e^{\\sin{\\left(x \\right)}} \\cos{\\left(x \\right)}$"
      ],
      "text/plain": [
       "exp(sin(x))*cos(x)"
      ]
     },
     "execution_count": 11,
     "metadata": {},
     "output_type": "execute_result"
    }
   ],
   "source": [
    "#Q.4\n",
    "\n",
    "diff(exp(sin(x)),x)"
   ]
  },
  {
   "cell_type": "markdown",
   "id": "ed09621a",
   "metadata": {},
   "source": [
    "."
   ]
  },
  {
   "cell_type": "code",
   "execution_count": 12,
   "id": "3bcf2506",
   "metadata": {},
   "outputs": [
    {
     "data": {
      "text/latex": [
       "$\\displaystyle - e^{x} \\sin{\\left(x \\right)} + e^{x} \\cos{\\left(x \\right)}$"
      ],
      "text/plain": [
       "-exp(x)*sin(x) + exp(x)*cos(x)"
      ]
     },
     "execution_count": 12,
     "metadata": {},
     "output_type": "execute_result"
    }
   ],
   "source": [
    "#Q.1\n",
    "diff(exp(x)*cos(x),x)"
   ]
  },
  {
   "cell_type": "code",
   "execution_count": 13,
   "id": "ab491084",
   "metadata": {},
   "outputs": [
    {
     "data": {
      "text/latex": [
       "$\\displaystyle 2 x \\cos{\\left(x^{2} \\right)}$"
      ],
      "text/plain": [
       "2*x*cos(x**2)"
      ]
     },
     "execution_count": 13,
     "metadata": {},
     "output_type": "execute_result"
    }
   ],
   "source": [
    "#Q.2\n",
    "diff(sin(x**2),x)"
   ]
  },
  {
   "cell_type": "code",
   "execution_count": 14,
   "id": "210d6e28",
   "metadata": {},
   "outputs": [
    {
     "data": {
      "text/latex": [
       "$\\displaystyle \\frac{2 \\tan^{2}{\\left(x \\right)} + 2}{\\tan{\\left(x \\right)}}$"
      ],
      "text/plain": [
       "(2*tan(x)**2 + 2)/tan(x)"
      ]
     },
     "execution_count": 14,
     "metadata": {},
     "output_type": "execute_result"
    }
   ],
   "source": [
    "#Q.3\n",
    "diff(log(tan(x)**2),x)"
   ]
  },
  {
   "cell_type": "code",
   "execution_count": 15,
   "id": "761829a4",
   "metadata": {},
   "outputs": [
    {
     "data": {
      "text/latex": [
       "$\\displaystyle \\left(4 x^{3} + 2 \\cos{\\left(x \\right)}\\right) \\left(\\sin{\\left(x \\right)} - \\cos{\\left(x \\right)}\\right) + \\left(x^{4} + 2 \\sin{\\left(x \\right)}\\right) \\left(\\sin{\\left(x \\right)} + \\cos{\\left(x \\right)}\\right)$"
      ],
      "text/plain": [
       "(4*x**3 + 2*cos(x))*(sin(x) - cos(x)) + (x**4 + 2*sin(x))*(sin(x) + cos(x))"
      ]
     },
     "execution_count": 15,
     "metadata": {},
     "output_type": "execute_result"
    }
   ],
   "source": [
    "diff((x**4+2*sin(x))*(sin(x)-cos(x)))"
   ]
  },
  {
   "cell_type": "markdown",
   "id": "b2076fc3",
   "metadata": {},
   "source": [
    "."
   ]
  },
  {
   "cell_type": "code",
   "execution_count": 16,
   "id": "6d8b6a64",
   "metadata": {},
   "outputs": [
    {
     "data": {
      "text/latex": [
       "$\\displaystyle \\frac{0.2}{x \\log{\\left(x \\right)}^{0.8}}$"
      ],
      "text/plain": [
       "0.2/(x*log(x)**0.8)"
      ]
     },
     "execution_count": 16,
     "metadata": {},
     "output_type": "execute_result"
    }
   ],
   "source": [
    "#Q.1\n",
    "diff(ln(x)**(1/5))"
   ]
  },
  {
   "cell_type": "code",
   "execution_count": 17,
   "id": "28f5c5c8",
   "metadata": {},
   "outputs": [
    {
     "data": {
      "text/latex": [
       "$\\displaystyle \\frac{\\left(\\frac{\\left(5 - 6 x\\right) \\left(2 x + 1\\right)}{\\left(3 x^{2} - 5 x + 3\\right)^{2}} + \\frac{2}{3 x^{2} - 5 x + 3}\\right) \\left(3 x^{2} - 5 x + 3\\right)}{2 x + 1}$"
      ],
      "text/plain": [
       "((5 - 6*x)*(2*x + 1)/(3*x**2 - 5*x + 3)**2 + 2/(3*x**2 - 5*x + 3))*(3*x**2 - 5*x + 3)/(2*x + 1)"
      ]
     },
     "execution_count": 17,
     "metadata": {},
     "output_type": "execute_result"
    }
   ],
   "source": [
    "#Q.2\n",
    "diff(ln((2*x+1)/(3*x**2-5*x+3)))"
   ]
  },
  {
   "cell_type": "code",
   "execution_count": 18,
   "id": "e54e28ab",
   "metadata": {},
   "outputs": [
    {
     "data": {
      "text/latex": [
       "$\\displaystyle - \\frac{30 x^{2}}{\\left(5 x^{3} - 3\\right)^{2}} - \\frac{15}{3 x - 2} + \\frac{26}{2 x + 1}$"
      ],
      "text/plain": [
       "-30*x**2/(5*x**3 - 3)**2 - 15/(3*x - 2) + 26/(2*x + 1)"
      ]
     },
     "execution_count": 18,
     "metadata": {},
     "output_type": "execute_result"
    }
   ],
   "source": [
    "#Q.3\n",
    "diff(13*log(2*x+1)-5*ln(3*x-2)+2/(5*x**3-3))"
   ]
  },
  {
   "cell_type": "markdown",
   "id": "ab55e4ed",
   "metadata": {},
   "source": [
    "."
   ]
  },
  {
   "cell_type": "code",
   "execution_count": 19,
   "id": "72937283",
   "metadata": {},
   "outputs": [
    {
     "data": {
      "text/latex": [
       "$\\displaystyle - \\frac{6 x \\sin^{2}{\\left(\\log{\\left(\\frac{\\log{\\left(1 - x^{2} \\right)}}{\\log{\\left(2 \\right)}} \\right)} \\right)} \\cos{\\left(\\log{\\left(\\frac{\\log{\\left(1 - x^{2} \\right)}}{\\log{\\left(2 \\right)}} \\right)} \\right)}}{\\left(1 - x^{2}\\right) \\log{\\left(1 - x^{2} \\right)}}$"
      ],
      "text/plain": [
       "-6*x*sin(log(log(1 - x**2)/log(2)))**2*cos(log(log(1 - x**2)/log(2)))/((1 - x**2)*log(1 - x**2))"
      ]
     },
     "execution_count": 19,
     "metadata": {},
     "output_type": "execute_result"
    }
   ],
   "source": [
    "#Q.1\n",
    "diff(sin(ln(log(1-x**2,2)))**3)"
   ]
  },
  {
   "cell_type": "code",
   "execution_count": 20,
   "id": "a324c820",
   "metadata": {},
   "outputs": [
    {
     "data": {
      "text/latex": [
       "$\\displaystyle \\frac{\\frac{60 x + 1}{30 x^{2} + x} + \\frac{40 \\log{\\left(20 x - 3 \\right)}}{20 x - 3}}{\\tan^{2}{\\left(\\frac{\\left(x^{2} - 3 x + 5\\right)^{2}}{\\log{\\left(a - 20 x \\right)}^{2}} \\right)}} - \\frac{2 \\left(\\frac{\\left(4 x - 6\\right) \\left(x^{2} - 3 x + 5\\right)}{\\log{\\left(a - 20 x \\right)}^{2}} + \\frac{40 \\left(x^{2} - 3 x + 5\\right)^{2}}{\\left(a - 20 x\\right) \\log{\\left(a - 20 x \\right)}^{3}}\\right) \\left(\\log{\\left(20 x - 3 \\right)}^{2} + \\log{\\left(30 x^{2} + x \\right)}\\right) \\left(\\tan^{2}{\\left(\\frac{\\left(x^{2} - 3 x + 5\\right)^{2}}{\\log{\\left(a - 20 x \\right)}^{2}} \\right)} + 1\\right)}{\\tan^{3}{\\left(\\frac{\\left(x^{2} - 3 x + 5\\right)^{2}}{\\log{\\left(a - 20 x \\right)}^{2}} \\right)}}$"
      ],
      "text/plain": [
       "((60*x + 1)/(30*x**2 + x) + 40*log(20*x - 3)/(20*x - 3))/tan((x**2 - 3*x + 5)**2/log(a - 20*x)**2)**2 - 2*((4*x - 6)*(x**2 - 3*x + 5)/log(a - 20*x)**2 + 40*(x**2 - 3*x + 5)**2/((a - 20*x)*log(a - 20*x)**3))*(log(20*x - 3)**2 + log(30*x**2 + x))*(tan((x**2 - 3*x + 5)**2/log(a - 20*x)**2)**2 + 1)/tan((x**2 - 3*x + 5)**2/log(a - 20*x)**2)**3"
      ]
     },
     "execution_count": 20,
     "metadata": {},
     "output_type": "execute_result"
    }
   ],
   "source": [
    "#Q.2\n",
    "x,a=symbols('x a')\n",
    "diff((log(20*x-3)**2+ln(x+30*x**2))/tan(((x**2-3*x+5)/ln(a-20*x))**2)**2,x)"
   ]
  },
  {
   "cell_type": "markdown",
   "id": "ab07c476",
   "metadata": {},
   "source": [
    "Partial Derivatives"
   ]
  },
  {
   "cell_type": "code",
   "execution_count": 3,
   "id": "eabe5d33",
   "metadata": {},
   "outputs": [
    {
     "data": {
      "text/latex": [
       "$\\displaystyle \\frac{x^{y^{2}} y^{2} e^{x^{y^{2}}}}{x}$"
      ],
      "text/plain": [
       "x**(y**2)*y**2*exp(x**(y**2))/x"
      ]
     },
     "execution_count": 3,
     "metadata": {},
     "output_type": "execute_result"
    }
   ],
   "source": [
    "y,z=symbols('y z')\n",
    "#1.\n",
    "diff(exp(x**y**2),x)"
   ]
  },
  {
   "cell_type": "code",
   "execution_count": 15,
   "id": "2ad6b3d6",
   "metadata": {},
   "outputs": [
    {
     "data": {
      "text/latex": [
       "$\\displaystyle 2 x^{y^{2}} y e^{x^{y^{2}}} \\log{\\left(x \\right)}$"
      ],
      "text/plain": [
       "2*x**(y**2)*y*exp(x**(y**2))*log(x)"
      ]
     },
     "execution_count": 15,
     "metadata": {},
     "output_type": "execute_result"
    }
   ],
   "source": [
    "#2.\n",
    "diff(exp(x**y**2),y)"
   ]
  },
  {
   "cell_type": "code",
   "execution_count": 18,
   "id": "fa07bad0",
   "metadata": {},
   "outputs": [
    {
     "data": {
      "text/latex": [
       "$\\displaystyle e^{y z^{2}} \\cos{\\left(x \\right)}$"
      ],
      "text/plain": [
       "exp(y*z**2)*cos(x)"
      ]
     },
     "execution_count": 18,
     "metadata": {},
     "output_type": "execute_result"
    }
   ],
   "source": [
    "#1.\n",
    "diff(sin(x)*exp(y*z**2),x)"
   ]
  },
  {
   "cell_type": "code",
   "execution_count": 19,
   "id": "c4fab03b",
   "metadata": {},
   "outputs": [
    {
     "data": {
      "text/latex": [
       "$\\displaystyle z^{2} e^{y z^{2}} \\sin{\\left(x \\right)}$"
      ],
      "text/plain": [
       "z**2*exp(y*z**2)*sin(x)"
      ]
     },
     "execution_count": 19,
     "metadata": {},
     "output_type": "execute_result"
    }
   ],
   "source": [
    "#2.\n",
    "diff(sin(x)*exp(y*z**2),y)"
   ]
  },
  {
   "cell_type": "code",
   "execution_count": 20,
   "id": "bb897de8",
   "metadata": {},
   "outputs": [
    {
     "data": {
      "text/latex": [
       "$\\displaystyle 2 y z e^{y z^{2}} \\sin{\\left(x \\right)}$"
      ],
      "text/plain": [
       "2*y*z*exp(y*z**2)*sin(x)"
      ]
     },
     "execution_count": 20,
     "metadata": {},
     "output_type": "execute_result"
    }
   ],
   "source": [
    "#3.\n",
    "diff(sin(x)*exp(y*z**2),z)"
   ]
  },
  {
   "cell_type": "code",
   "execution_count": 25,
   "id": "da8f087e",
   "metadata": {},
   "outputs": [
    {
     "data": {
      "text/latex": [
       "$\\displaystyle 2 \\pi h q r + 2 \\pi q r^{2}$"
      ],
      "text/plain": [
       "2*pi*h*q*r + 2*pi*q*r**2"
      ]
     },
     "execution_count": 25,
     "metadata": {},
     "output_type": "execute_result"
    }
   ],
   "source": [
    "r,t,h,q=symbols(\"r t h q\")\n",
    "#1)\n",
    "diff((2*pi*r**2*t*q)+(2*pi*r*h*t*q),t)"
   ]
  },
  {
   "cell_type": "code",
   "execution_count": 26,
   "id": "3ac2e38d",
   "metadata": {},
   "outputs": [
    {
     "data": {
      "text/latex": [
       "$\\displaystyle 2 \\pi h r t + 2 \\pi r^{2} t$"
      ],
      "text/plain": [
       "2*pi*h*r*t + 2*pi*r**2*t"
      ]
     },
     "execution_count": 26,
     "metadata": {},
     "output_type": "execute_result"
    }
   ],
   "source": [
    "#2)\n",
    "diff((2*pi*r**2*t*q)+(2*pi*r*h*t*q),q)"
   ]
  },
  {
   "cell_type": "code",
   "execution_count": 27,
   "id": "50fdd419",
   "metadata": {},
   "outputs": [
    {
     "data": {
      "text/latex": [
       "$\\displaystyle 2 \\pi q r t$"
      ],
      "text/plain": [
       "2*pi*q*r*t"
      ]
     },
     "execution_count": 27,
     "metadata": {},
     "output_type": "execute_result"
    }
   ],
   "source": [
    "#3)\n",
    "diff((2*pi*r**2*t*q)+(2*pi*r*h*t*q),h)"
   ]
  },
  {
   "cell_type": "code",
   "execution_count": 28,
   "id": "196ddb1e",
   "metadata": {},
   "outputs": [
    {
     "data": {
      "text/latex": [
       "$\\displaystyle 2 \\pi h q t + 4 \\pi q r t$"
      ],
      "text/plain": [
       "2*pi*h*q*t + 4*pi*q*r*t"
      ]
     },
     "execution_count": 28,
     "metadata": {},
     "output_type": "execute_result"
    }
   ],
   "source": [
    "#4)\n",
    "diff((2*pi*r**2*t*q)+(2*pi*r*h*t*q),r)"
   ]
  },
  {
   "cell_type": "code",
   "execution_count": 31,
   "id": "e98f2d20",
   "metadata": {},
   "outputs": [
    {
     "data": {
      "text/latex": [
       "$\\displaystyle 2 z^{2} e^{2 x} \\sin{\\left(y \\right)} + e^{x} e^{y} \\cos{\\left(z \\right)}$"
      ],
      "text/plain": [
       "2*z**2*exp(2*x)*sin(y) + exp(x)*exp(y)*cos(z)"
      ]
     },
     "execution_count": 31,
     "metadata": {},
     "output_type": "execute_result"
    }
   ],
   "source": [
    "#1.\n",
    "diff((exp(2*x)*sin(y)*z**2)+(cos(z)*exp(x)*exp(y)),x)"
   ]
  },
  {
   "cell_type": "code",
   "execution_count": 32,
   "id": "16e810b3",
   "metadata": {},
   "outputs": [
    {
     "data": {
      "text/latex": [
       "$\\displaystyle z^{2} e^{2 x} \\cos{\\left(y \\right)} + e^{x} e^{y} \\cos{\\left(z \\right)}$"
      ],
      "text/plain": [
       "z**2*exp(2*x)*cos(y) + exp(x)*exp(y)*cos(z)"
      ]
     },
     "execution_count": 32,
     "metadata": {},
     "output_type": "execute_result"
    }
   ],
   "source": [
    "#2.\n",
    "diff((exp(2*x)*sin(y)*z**2)+(cos(z)*exp(x)*exp(y)),y)"
   ]
  },
  {
   "cell_type": "code",
   "execution_count": 33,
   "id": "5b7bf034",
   "metadata": {},
   "outputs": [
    {
     "data": {
      "text/latex": [
       "$\\displaystyle 2 z e^{2 x} \\sin{\\left(y \\right)} - e^{x} e^{y} \\sin{\\left(z \\right)}$"
      ],
      "text/plain": [
       "2*z*exp(2*x)*sin(y) - exp(x)*exp(y)*sin(z)"
      ]
     },
     "execution_count": 33,
     "metadata": {},
     "output_type": "execute_result"
    }
   ],
   "source": [
    "#3.\n",
    "diff((exp(2*x)*sin(y)*z**2)+(cos(z)*exp(x)*exp(y)),z)"
   ]
  },
  {
   "cell_type": "code",
   "execution_count": 41,
   "id": "d077abc2",
   "metadata": {},
   "outputs": [
    {
     "data": {
      "text/latex": [
       "$\\displaystyle \\frac{\\sqrt{x y}}{2 x z} + \\frac{\\sqrt{z}}{x^{2} y}$"
      ],
      "text/plain": [
       "sqrt(x*y)/(2*x*z) + sqrt(z)/(x**2*y)"
      ]
     },
     "execution_count": 41,
     "metadata": {},
     "output_type": "execute_result"
    }
   ],
   "source": [
    "#0.1\n",
    "diff((sqrt(x*y)/z)-(sqrt(z)/(x*y)),x)"
   ]
  },
  {
   "cell_type": "code",
   "execution_count": 42,
   "id": "ea9ab101",
   "metadata": {},
   "outputs": [
    {
     "data": {
      "text/latex": [
       "$\\displaystyle \\frac{\\sqrt{x y}}{2 y z} + \\frac{\\sqrt{z}}{x y^{2}}$"
      ],
      "text/plain": [
       "sqrt(x*y)/(2*y*z) + sqrt(z)/(x*y**2)"
      ]
     },
     "execution_count": 42,
     "metadata": {},
     "output_type": "execute_result"
    }
   ],
   "source": [
    "#0.2\n",
    "diff((sqrt(x*y)/z)-(sqrt(z)/(x*y)),y)"
   ]
  },
  {
   "cell_type": "code",
   "execution_count": 43,
   "id": "acf1e838",
   "metadata": {},
   "outputs": [
    {
     "data": {
      "text/latex": [
       "$\\displaystyle - \\frac{\\sqrt{x y}}{z^{2}} - \\frac{1}{2 x y \\sqrt{z}}$"
      ],
      "text/plain": [
       "-sqrt(x*y)/z**2 - 1/(2*x*y*sqrt(z))"
      ]
     },
     "execution_count": 43,
     "metadata": {},
     "output_type": "execute_result"
    }
   ],
   "source": [
    "#0.3\n",
    "diff((sqrt(x*y)/z)-(sqrt(z)/(x*y)),z)"
   ]
  },
  {
   "cell_type": "markdown",
   "id": "cfd5a04c",
   "metadata": {},
   "source": [
    "Total Derivatives:"
   ]
  },
  {
   "cell_type": "code",
   "execution_count": 5,
   "id": "9abaf383",
   "metadata": {},
   "outputs": [
    {
     "data": {
      "text/latex": [
       "$\\displaystyle 2 t e^{\\frac{2}{t}} \\cos{\\left(t^{2} \\right)} \\cos{\\left(t + 1 \\right)} - e^{\\frac{2}{t}} \\sin{\\left(t^{2} \\right)} \\sin{\\left(t + 1 \\right)} - \\frac{2 e^{\\frac{2}{t}} \\sin{\\left(t^{2} \\right)} \\cos{\\left(t + 1 \\right)}}{t^{2}}$"
      ],
      "text/plain": [
       "2*t*exp(2/t)*cos(t**2)*cos(t + 1) - exp(2/t)*sin(t**2)*sin(t + 1) - 2*exp(2/t)*sin(t**2)*cos(t + 1)/t**2"
      ]
     },
     "execution_count": 5,
     "metadata": {},
     "output_type": "execute_result"
    }
   ],
   "source": [
    "#Q.01:\n",
    "x,y,z,t=symbols(\"x y z t\")\n",
    "x=t+1\n",
    "y=t**2\n",
    "z=1/t\n",
    "diff(cos(x)*sin(y)*exp(2*z),t)"
   ]
  },
  {
   "cell_type": "code",
   "execution_count": 23,
   "id": "f59dadbe",
   "metadata": {},
   "outputs": [
    {
     "data": {
      "text/latex": [
       "$\\displaystyle 8 t^{7} + 3 t^{2} + 1$"
      ],
      "text/plain": [
       "8*t**7 + 3*t**2 + 1"
      ]
     },
     "execution_count": 23,
     "metadata": {},
     "output_type": "execute_result"
    }
   ],
   "source": [
    "x=t**2\n",
    "y=1/t\n",
    "z=t**3\n",
    "diff((x**2*y)+(y**2*z)+(z**2*x),t)"
   ]
  },
  {
   "cell_type": "code",
   "execution_count": 3,
   "id": "a2e8a332",
   "metadata": {},
   "outputs": [
    {
     "data": {
      "text/latex": [
       "$\\displaystyle \\frac{0.5}{t^{0.5} \\sin{\\left(t^{2} \\right)}} - \\frac{2 t^{1.5} \\cos{\\left(t^{2} \\right)}}{\\sin^{2}{\\left(t^{2} \\right)}}$"
      ],
      "text/plain": [
       "0.5/(t**0.5*sin(t**2)) - 2*t**1.5*cos(t**2)/sin(t**2)**2"
      ]
     },
     "execution_count": 3,
     "metadata": {},
     "output_type": "execute_result"
    }
   ],
   "source": [
    "#Total Derivative by replacing x & y first then derivative:\n",
    "x=t\n",
    "y=sin(t**2)\n",
    "f=x**(1/2)/y\n",
    "diff(f,t)"
   ]
  },
  {
   "cell_type": "code",
   "execution_count": null,
   "id": "d1c3376a",
   "metadata": {},
   "outputs": [],
   "source": []
  }
 ],
 "metadata": {
  "kernelspec": {
   "display_name": "Python 3 (ipykernel)",
   "language": "python",
   "name": "python3"
  },
  "language_info": {
   "codemirror_mode": {
    "name": "ipython",
    "version": 3
   },
   "file_extension": ".py",
   "mimetype": "text/x-python",
   "name": "python",
   "nbconvert_exporter": "python",
   "pygments_lexer": "ipython3",
   "version": "3.8.10"
  }
 },
 "nbformat": 4,
 "nbformat_minor": 5
}
