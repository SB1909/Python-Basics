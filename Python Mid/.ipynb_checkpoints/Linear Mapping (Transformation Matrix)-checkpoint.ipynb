{
 "cells": [
  {
   "cell_type": "code",
   "execution_count": 2,
   "id": "68b08b36",
   "metadata": {},
   "outputs": [],
   "source": [
    "import numpy as np"
   ]
  },
  {
   "cell_type": "markdown",
   "id": "1415270a",
   "metadata": {},
   "source": [
    "Reversal Matrix Transformation:-"
   ]
  },
  {
   "cell_type": "code",
   "execution_count": 7,
   "id": "4ec9e13e",
   "metadata": {},
   "outputs": [
    {
     "name": "stdout",
     "output_type": "stream",
     "text": [
      "T:\n",
      " [[0 0 1]\n",
      " [0 1 0]\n",
      " [1 0 0]]\n",
      "X:\n",
      " [[-1]\n",
      " [ 0]\n",
      " [ 1]]\n",
      "Y:\n",
      " [[ 1]\n",
      " [ 0]\n",
      " [-1]]\n",
      "First condition is satiesfied\n",
      "\n",
      "Second condition is satiesfied.\n"
     ]
    }
   ],
   "source": [
    "T=np.array([[0,0,1],[0,1,0],[1,0,0]])\n",
    "print(\"T:\\n\",T)\n",
    "X=np.array([[-1],[0],[1]])\n",
    "print(\"X:\\n\",X)\n",
    "Y=np.array([[1],[0],[-1]])\n",
    "print(\"Y:\\n\",Y)\n",
    "LHS1=T.T@(X+Y)\n",
    "RHS1=(T.T@X)+(T.T@Y)\n",
    "LHS1,RHS1\n",
    "if (LHS1==RHS1).all():\n",
    "    print(\"First condition is satiesfied\\n\")\n",
    "else:\n",
    "    print(\"First condition is not satiesfied\")\n",
    "a=2\n",
    "LHS2=T.T@(a*X)\n",
    "RHS2=a*(T.T@X)\n",
    "LHS2,RHS2\n",
    "if (LHS2==RHS2).all():\n",
    "    print(\"Second condition is satiesfied.\")\n",
    "else:\n",
    "    print(\"Second condition is not satiesfied.\")"
   ]
  },
  {
   "cell_type": "markdown",
   "id": "7eab1150",
   "metadata": {},
   "source": [
    "Negation Transformation:"
   ]
  },
  {
   "cell_type": "code",
   "execution_count": 14,
   "id": "738846ec",
   "metadata": {},
   "outputs": [
    {
     "name": "stdout",
     "output_type": "stream",
     "text": [
      "T:\n",
      " [[-1  0  0]\n",
      " [ 0 -1  0]\n",
      " [ 0  0 -1]]\n",
      "X:\n",
      " [[-1]\n",
      " [ 0]\n",
      " [ 1]]\n",
      "Vector after transformation:\n",
      " [[ 1]\n",
      " [ 0]\n",
      " [-1]]\n"
     ]
    }
   ],
   "source": [
    "T=np.array([[-1,0,0],[0,-1,0],[0,0,-1]])\n",
    "print(\"T:\\n\",T)\n",
    "X=np.array([[-1],[0],[1]])\n",
    "print(\"X:\\n\",X)\n",
    "Y=T@X\n",
    "print(\"Vector after transformation:\\n\",Y)"
   ]
  },
  {
   "cell_type": "markdown",
   "id": "d927746c",
   "metadata": {},
   "source": [
    "Scaling Transformation:"
   ]
  },
  {
   "cell_type": "code",
   "execution_count": 15,
   "id": "d1134987",
   "metadata": {},
   "outputs": [
    {
     "name": "stdout",
     "output_type": "stream",
     "text": [
      "x:\n",
      " [3 5 7]\n",
      "Scaling Factor: 3\n",
      "A:\n",
      " [[3. 0. 0.]\n",
      " [0. 3. 0.]\n",
      " [0. 0. 3.]]\n",
      "Vector after transformation:\n",
      " [ 9. 15. 21.]\n",
      "Matrix A is scaling transformation matrix\n"
     ]
    }
   ],
   "source": [
    "x=np.array([3,5,7])\n",
    "print(\"x:\\n\",x)\n",
    "a=3\n",
    "print(\"Scaling Factor:\",a)\n",
    "I=np.eye(3,3,0)\n",
    "A=a*I\n",
    "print(\"A:\\n\",A)\n",
    "y=A@x\n",
    "print(\"Vector after transformation:\\n\",y)\n",
    "\n",
    "L2x=np.linalg.norm(x,2)\n",
    "L2y=np.linalg.norm(y,2)\n",
    "if L2y==3*L2x:\n",
    "    print(\"Matrix A is scaling transformation matrix\")\n",
    "else:\n",
    "    print(\"no\")"
   ]
  },
  {
   "cell_type": "markdown",
   "id": "d7cf31b8",
   "metadata": {},
   "source": [
    "Reflection Transformation: (theta= angle of reflection line from horizontal line)"
   ]
  },
  {
   "cell_type": "code",
   "execution_count": 46,
   "id": "8559a318",
   "metadata": {},
   "outputs": [
    {
     "name": "stdout",
     "output_type": "stream",
     "text": [
      "Tranformation Matrix A:\n",
      " [['cos(2*theta)' 'sin(2*theta)']\n",
      " ['sin(2*theta)' '-cos(2*theta)']]\n",
      "\n",
      "Along x-axis: theta=0\n",
      "[[ 1  0]\n",
      " [ 0 -1]]\n",
      "Vector after transformation:\n",
      " [ 2 -3]\n",
      "\n",
      "Along y-axis: theta=90\n",
      "[[-1  0]\n",
      " [ 0  1]]\n",
      "Vector after transformation:\n",
      " [-2  3]\n",
      "\n",
      "Along origine line: theta=45\n",
      "[[0 1]\n",
      " [1 0]]\n",
      "Vector after transformation:\n",
      " [3 2]\n",
      "\n"
     ]
    }
   ],
   "source": [
    "A=np.array([[\"cos(2*theta)\",\"sin(2*theta)\"],[\"sin(2*theta)\",\"-cos(2*theta)\"]])\n",
    "print(\"Tranformation Matrix A:\\n\",A)\n",
    "print()\n",
    "def refl(theta,x):\n",
    "    a=round(np.cos(np.radians(2*theta)))\n",
    "    b=round(np.sin(np.radians(2*theta)))\n",
    "    c=round(np.sin(np.radians(2*theta)))\n",
    "    d=-round(np.cos(np.radians(2*theta)))\n",
    "    A=np.array([[a,b],[c,d]])\n",
    "    print(A)\n",
    "    y=A@x\n",
    "    print(\"Vector after transformation:\\n\",y)\n",
    "    print()\n",
    "    return\n",
    "x=np.array([2,3])\n",
    "print(\"Along x-axis: theta=0\")\n",
    "refl(0,x)\n",
    "print(\"Along y-axis: theta=90\")\n",
    "refl(90,x)\n",
    "print(\"Along origine line: theta=45\")\n",
    "refl(45,x)\n"
   ]
  },
  {
   "cell_type": "markdown",
   "id": "07bf339f",
   "metadata": {},
   "source": [
    "Shearing Transformation:"
   ]
  },
  {
   "cell_type": "code",
   "execution_count": 54,
   "id": "ef51d79d",
   "metadata": {},
   "outputs": [
    {
     "name": "stdout",
     "output_type": "stream",
     "text": [
      "Horizontal Shearing(x-axis):\n",
      "[['1' 'm']\n",
      " ['0' '1']]\n",
      "Vector after transformation:\n",
      " [[ 0 10]\n",
      " [ 0  4]]\n",
      "\n",
      "Verticle Shearing(y-axis):\n",
      "[['1' '0']\n",
      " ['m' '1']]\n",
      "Vector after transformation:\n",
      " [[ 2  4]\n",
      " [ 4 12]]\n"
     ]
    }
   ],
   "source": [
    "#share factor (m)\n",
    "m=2\n",
    "print(\"Horizontal Shearing(x-axis):\")\n",
    "A=np.array([[1,'m'],[0,1]])\n",
    "print(A)\n",
    "A=np.array([[1,m],[0,1]])\n",
    "x=np.array([[0,2],[0,4]])\n",
    "y=A@x\n",
    "print(\"Vector after transformation:\\n\",y)\n",
    "print()\n",
    "\n",
    "print(\"Verticle Shearing(y-axis):\")\n",
    "A=np.array([[1,0],['m',1]])\n",
    "print(A)\n",
    "A=np.array([[1,0],[m,1]])\n",
    "x=np.array([[2,4],[0,4]])\n",
    "y=A@x\n",
    "print(\"Vector after transformation:\\n\",y)"
   ]
  },
  {
   "cell_type": "markdown",
   "id": "f068bcd3",
   "metadata": {},
   "source": [
    "Rotation ransformation:"
   ]
  },
  {
   "cell_type": "code",
   "execution_count": 57,
   "id": "cf35c83a",
   "metadata": {},
   "outputs": [
    {
     "name": "stdout",
     "output_type": "stream",
     "text": [
      "Tranformation Matrix A:\n",
      " [['cos(theta)' '-sin(theta)']\n",
      " ['sin(theta)' 'cos(theta)']]\n",
      "\n",
      "[[ 0 -1]\n",
      " [ 1  0]]\n",
      "\n",
      "Vector after transformation:\n",
      " [-3  2]\n",
      "\n"
     ]
    }
   ],
   "source": [
    "A=np.array([[\"cos(theta)\",\"-sin(theta)\"],[\"sin(theta)\",\"cos(theta)\"]])\n",
    "print(\"Tranformation Matrix A:\\n\",A)\n",
    "print()\n",
    "x=np.array([2,3])\n",
    "theta=90     #angle of rotation(aniclockwise +ve)\n",
    "a=round(np.cos(np.radians(theta)))\n",
    "b=-round(np.sin(np.radians(theta)))\n",
    "c=round(np.sin(np.radians(theta)))\n",
    "d=round(np.cos(np.radians(theta)))\n",
    "A=np.array([[a,b],[c,d]])\n",
    "print(A)\n",
    "print()\n",
    "y=A@x\n",
    "print(\"Vector after transformation:\\n\",y)\n",
    "print()"
   ]
  },
  {
   "cell_type": "code",
   "execution_count": null,
   "id": "ba4f1508",
   "metadata": {},
   "outputs": [],
   "source": []
  }
 ],
 "metadata": {
  "kernelspec": {
   "display_name": "Python 3 (ipykernel)",
   "language": "python",
   "name": "python3"
  },
  "language_info": {
   "codemirror_mode": {
    "name": "ipython",
    "version": 3
   },
   "file_extension": ".py",
   "mimetype": "text/x-python",
   "name": "python",
   "nbconvert_exporter": "python",
   "pygments_lexer": "ipython3",
   "version": "3.8.10"
  }
 },
 "nbformat": 4,
 "nbformat_minor": 5
}
