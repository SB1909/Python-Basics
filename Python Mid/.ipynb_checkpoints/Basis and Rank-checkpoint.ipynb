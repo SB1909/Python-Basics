{
 "cells": [
  {
   "cell_type": "code",
   "execution_count": 1,
   "id": "f5eafee7",
   "metadata": {},
   "outputs": [],
   "source": [
    "from sympy import Matrix\n",
    "import numpy as np"
   ]
  },
  {
   "cell_type": "code",
   "execution_count": 2,
   "id": "003a29f1",
   "metadata": {},
   "outputs": [
    {
     "name": "stdout",
     "output_type": "stream",
     "text": [
      "Matrix([[2, 8, 1, 1], [3, 7, 0, 1], [4, 6, 1, 1]])\n",
      "Rows of matrix A: 3\n",
      "\n",
      "RREF of Matrix A: (Matrix([\n",
      "[1, 0, 0, 1/10],\n",
      "[0, 1, 0, 1/10],\n",
      "[0, 0, 1,    0]]), (0, 1, 2))\n"
     ]
    },
    {
     "ename": "NameError",
     "evalue": "name 'A_pivot' is not defined",
     "output_type": "error",
     "traceback": [
      "\u001b[1;31m---------------------------------------------------------------------------\u001b[0m",
      "\u001b[1;31mNameError\u001b[0m                                 Traceback (most recent call last)",
      "Input \u001b[1;32mIn [2]\u001b[0m, in \u001b[0;36m<cell line: 10>\u001b[1;34m()\u001b[0m\n\u001b[0;32m      8\u001b[0m \u001b[38;5;28mprint\u001b[39m(\u001b[38;5;124m\"\u001b[39m\u001b[38;5;124mRREF of Matrix A:\u001b[39m\u001b[38;5;124m\"\u001b[39m,A_rref)\n\u001b[0;32m      9\u001b[0m \u001b[38;5;66;03m#print(\"Pivot columns are:\",A_pivot)\u001b[39;00m\n\u001b[1;32m---> 10\u001b[0m n\u001b[38;5;241m=\u001b[39m\u001b[38;5;28mlen\u001b[39m(\u001b[43mA_pivot\u001b[49m)\n\u001b[0;32m     11\u001b[0m \u001b[38;5;28mprint\u001b[39m(\u001b[38;5;124m\"\u001b[39m\u001b[38;5;124mRank of Matrix A=\u001b[39m\u001b[38;5;124m\"\u001b[39m,n)\n\u001b[0;32m     12\u001b[0m B\u001b[38;5;241m=\u001b[39mA[:,(A_pivot[\u001b[38;5;241m0\u001b[39m:n])]    \u001b[38;5;66;03m#to extract independend vectors from matrix\u001b[39;00m\n",
      "\u001b[1;31mNameError\u001b[0m: name 'A_pivot' is not defined"
     ]
    }
   ],
   "source": [
    "A=Matrix([[2,8,1,1],[3,7,0,1],[4,6,1,1]])\n",
    "print(A)\n",
    "m,n=np.shape(A)     #for rows and columns of matrix\n",
    "print(\"Rows of matrix A:\",m)\n",
    "print()\n",
    "\n",
    "A_rref,A_pivot=A.rref()\n",
    "print(\"RREF of Matrix A:\",A_rref)\n",
    "print(\"Pivot columns are:\",A_pivot)\n",
    "n=len(A_pivot)\n",
    "print(\"Rank of Matrix A=\",n)\n",
    "B=A[:,(A_pivot[0:n])]    #to extract independend vectors from matrix\n",
    "print(\"Basis column vector:\\n\",B)\n",
    "print()\n",
    "\n",
    "a=A.T\n",
    "a_rref,a_pivot=a.rref()\n",
    "print(\"Transpose of matrix A:\",a)\n",
    "print(\"RREF of transpose of Matrix A:\",a_rref)\n",
    "print(\"Pivot columns of transpose matrix are:\",a_pivot)\n",
    "\n",
    "if len(a_pivot)==m:\n",
    "    print(\"Full rank matrix\")\n",
    "else:\n",
    "    print(\"Not a Full Rank Matrix\")"
   ]
  },
  {
   "cell_type": "code",
   "execution_count": null,
   "id": "9c095113",
   "metadata": {},
   "outputs": [],
   "source": []
  }
 ],
 "metadata": {
  "kernelspec": {
   "display_name": "Python 3 (ipykernel)",
   "language": "python",
   "name": "python3"
  },
  "language_info": {
   "codemirror_mode": {
    "name": "ipython",
    "version": 3
   },
   "file_extension": ".py",
   "mimetype": "text/x-python",
   "name": "python",
   "nbconvert_exporter": "python",
   "pygments_lexer": "ipython3",
   "version": "3.8.10"
  }
 },
 "nbformat": 4,
 "nbformat_minor": 5
}
