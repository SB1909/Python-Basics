{
 "cells": [
  {
   "cell_type": "code",
   "execution_count": 1,
   "id": "4cd01568",
   "metadata": {},
   "outputs": [],
   "source": [
    "import numpy as np"
   ]
  },
  {
   "cell_type": "code",
   "execution_count": 2,
   "id": "565412da",
   "metadata": {},
   "outputs": [],
   "source": [
    "A=np.array([[1,2,3],[4,5,6],[7,8,9]])"
   ]
  },
  {
   "cell_type": "markdown",
   "id": "1d18afbe",
   "metadata": {},
   "source": [
    "Frobenius Norm:"
   ]
  },
  {
   "cell_type": "code",
   "execution_count": 3,
   "id": "a84ab1f1",
   "metadata": {},
   "outputs": [
    {
     "data": {
      "text/plain": [
       "16.881943016134134"
      ]
     },
     "execution_count": 3,
     "metadata": {},
     "output_type": "execute_result"
    }
   ],
   "source": [
    "fro_norm=np.linalg.norm(A,'fro')\n",
    "fro_norm"
   ]
  },
  {
   "cell_type": "markdown",
   "id": "72ff736c",
   "metadata": {},
   "source": [
    "Max Norm:"
   ]
  },
  {
   "cell_type": "code",
   "execution_count": 4,
   "id": "e2a07524",
   "metadata": {},
   "outputs": [
    {
     "data": {
      "text/plain": [
       "24.0"
      ]
     },
     "execution_count": 4,
     "metadata": {},
     "output_type": "execute_result"
    }
   ],
   "source": [
    "max_norm=np.linalg.norm(A,np.inf)\n",
    "max_norm"
   ]
  },
  {
   "cell_type": "markdown",
   "id": "bf173fae",
   "metadata": {},
   "source": [
    "Spectural Norm:"
   ]
  },
  {
   "cell_type": "code",
   "execution_count": 5,
   "id": "f229f4a4",
   "metadata": {},
   "outputs": [
    {
     "data": {
      "text/plain": [
       "16.84810335261421"
      ]
     },
     "execution_count": 5,
     "metadata": {},
     "output_type": "execute_result"
    }
   ],
   "source": [
    "spec_norm=np.linalg.norm(A,2)\n",
    "spec_norm"
   ]
  },
  {
   "cell_type": "code",
   "execution_count": null,
   "id": "00b23968",
   "metadata": {},
   "outputs": [],
   "source": []
  }
 ],
 "metadata": {
  "kernelspec": {
   "display_name": "Python 3 (ipykernel)",
   "language": "python",
   "name": "python3"
  },
  "language_info": {
   "codemirror_mode": {
    "name": "ipython",
    "version": 3
   },
   "file_extension": ".py",
   "mimetype": "text/x-python",
   "name": "python",
   "nbconvert_exporter": "python",
   "pygments_lexer": "ipython3",
   "version": "3.8.10"
  }
 },
 "nbformat": 4,
 "nbformat_minor": 5
}
