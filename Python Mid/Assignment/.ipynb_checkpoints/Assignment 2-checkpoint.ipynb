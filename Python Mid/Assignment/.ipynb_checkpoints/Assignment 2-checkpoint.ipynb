{
 "cells": [
  {
   "cell_type": "code",
   "execution_count": 2,
   "id": "86cd8154",
   "metadata": {},
   "outputs": [],
   "source": [
    "from sympy import*\n",
    "x=symbols('x')"
   ]
  },
  {
   "cell_type": "code",
   "execution_count": 3,
   "id": "9f6ad575",
   "metadata": {},
   "outputs": [],
   "source": [
    "fa=x**2-5*x+6\n",
    "fb=sin(x)\n",
    "fc=cos(x)+x**2"
   ]
  },
  {
   "cell_type": "markdown",
   "id": "7aca8e0d",
   "metadata": {},
   "source": [
    "Q.01:"
   ]
  },
  {
   "cell_type": "code",
   "execution_count": 3,
   "id": "48ce6b4d",
   "metadata": {},
   "outputs": [
    {
     "name": "stdout",
     "output_type": "stream",
     "text": [
      "2*x - 5\n",
      "cos(x)\n",
      "2*x - sin(x)\n"
     ]
    }
   ],
   "source": [
    "fd_a=diff(fa,x)\n",
    "print(fd_a)\n",
    "fd_b=diff(fb,x)\n",
    "print(fd_b)\n",
    "fd_c=diff(fc,x)\n",
    "print(fd_c)"
   ]
  },
  {
   "cell_type": "markdown",
   "id": "4581020c",
   "metadata": {},
   "source": [
    "Q.02:"
   ]
  },
  {
   "cell_type": "code",
   "execution_count": 4,
   "id": "7538b3b3",
   "metadata": {},
   "outputs": [
    {
     "name": "stdout",
     "output_type": "stream",
     "text": [
      "f(x): x**2 - 5*x + 6\n",
      "f'(x): 2*x - 5\n",
      "Slope of f(x) at point 3 : 1\n",
      "Equation for tangent line:\n",
      " Eq(x - 3, y)\n",
      "\n",
      "f(x): sin(x)\n",
      "f'(x): cos(x)\n",
      "Slope of f(x) at point pi : -1\n",
      "Equation for tangent line:\n",
      " Eq(pi - x, y)\n",
      "\n",
      "f(x): x**2 + cos(x)\n",
      "f'(x): 2*x - sin(x)\n",
      "Slope of f(x) at point pi/4 : -sqrt(2)/2 + pi/2\n",
      "Equation for tangent line:\n",
      " Eq((-sqrt(2)/2 + pi/2)*(x - pi/4) + pi**2/16 + sqrt(2)/2, y)\n"
     ]
    }
   ],
   "source": [
    "y=symbols('y')\n",
    "def fun(f,a):\n",
    "    print(\"f(x):\",f)\n",
    "    fd=diff(f,x)\n",
    "    print(\"f'(x):\",fd)\n",
    "    m=fd.subs(x,a)\n",
    "    print(\"Slope of f(x) at point\",a,\":\",m)\n",
    "    y0=f.subs(x,a)\n",
    "    x0=a\n",
    "    eq=Eq(m*(x-x0)+y0,y)\n",
    "    print(\"Equation for tangent line:\\n\",eq)\n",
    "    return\n",
    "fun(fa,3)\n",
    "print()\n",
    "fun(fb,pi)\n",
    "print()\n",
    "fun(fc,(pi/4))\n"
   ]
  },
  {
   "cell_type": "markdown",
   "id": "140bf5f7",
   "metadata": {},
   "source": [
    "Q.03:  desmos calculator"
   ]
  },
  {
   "cell_type": "markdown",
   "id": "95edf5b0",
   "metadata": {},
   "source": [
    "Q.04:"
   ]
  },
  {
   "cell_type": "code",
   "execution_count": 5,
   "id": "51154b9c",
   "metadata": {},
   "outputs": [
    {
     "name": "stdout",
     "output_type": "stream",
     "text": [
      "f(x): x**2 - 5*x + 6\n",
      "f'(x): 2*x - 5\n",
      "Derivative will be zero at values of x (critical points): {5/2}\n",
      "f''(x): 2\n",
      "Values of second derivative at critical points: [2]\n",
      "Minima\n",
      "\n"
     ]
    }
   ],
   "source": [
    "def fun(f):\n",
    "    print(\"f(x):\",f)\n",
    "    fd=diff(f,x)\n",
    "    print(\"f'(x):\",fd)\n",
    "    roots=solveset(fd,x)\n",
    "    print(\"Derivative will be zero at values of x (critical points):\",roots)\n",
    "    sd=diff(fd,x)\n",
    "    print(\"f''(x):\",sd)\n",
    "    a=[sd.subs(x,_) for _ in roots]\n",
    "    print(\"Values of second derivative at critical points:\",a)\n",
    "    for i in a:\n",
    "        if i>0:\n",
    "            print(\"Minima\")\n",
    "        elif i<0:\n",
    "            print(\"Maxima\")\n",
    "        else:\n",
    "            print(\"Point of Inflection\")\n",
    "    print()\n",
    "    return\n",
    "\n",
    "fun(fa)\n",
    "\n",
    "#fun(fb)\n",
    "\n",
    "#fun(fc)\n"
   ]
  },
  {
   "cell_type": "markdown",
   "id": "1c5b7332",
   "metadata": {},
   "source": [
    "Q.05:"
   ]
  },
  {
   "cell_type": "code",
   "execution_count": 6,
   "id": "aebaaa98",
   "metadata": {},
   "outputs": [
    {
     "data": {
      "text/latex": [
       "$\\displaystyle \\left\\{2\\right\\}$"
      ],
      "text/plain": [
       "{2}"
      ]
     },
     "execution_count": 6,
     "metadata": {},
     "output_type": "execute_result"
    }
   ],
   "source": [
    "f=x**2-4*x+3\n",
    "fd=diff(f,x)\n",
    "roots=solveset(fd,x)\n",
    "roots"
   ]
  },
  {
   "cell_type": "markdown",
   "id": "b7df3293",
   "metadata": {},
   "source": [
    "Q.06"
   ]
  },
  {
   "cell_type": "code",
   "execution_count": 4,
   "id": "8140c423",
   "metadata": {},
   "outputs": [
    {
     "name": "stdout",
     "output_type": "stream",
     "text": [
      "f(x): -x**2 + 3*x - 2\n",
      "f'(x): 3 - 2*x\n",
      "critical points of x: {3/2}\n",
      "f''(x): -2\n",
      "No absolute maxima or minima present within given range.\n",
      "\n",
      "f(x): -3*x**0.666666666666667 + x**2\n",
      "f'(x): -2.0/x**0.333333333333333 + 2*x\n",
      "critical points of x: ConditionSet(x, Eq(-2.0/x**0.333333333333333 + 2*x, 0), Complexes)\n",
      "f''(x): 0.666666666666667/x**1.33333333333333 + 2\n"
     ]
    },
    {
     "ename": "TypeError",
     "evalue": "'ConditionSet' object is not iterable",
     "output_type": "error",
     "traceback": [
      "\u001b[1;31m---------------------------------------------------------------------------\u001b[0m",
      "\u001b[1;31mTypeError\u001b[0m                                 Traceback (most recent call last)",
      "Input \u001b[1;32mIn [4]\u001b[0m, in \u001b[0;36m<cell line: 25>\u001b[1;34m()\u001b[0m\n\u001b[0;32m     21\u001b[0m     \u001b[38;5;28;01mreturn\u001b[39;00m\n\u001b[0;32m     23\u001b[0m fun(\u001b[38;5;241m-\u001b[39mx\u001b[38;5;241m*\u001b[39m\u001b[38;5;241m*\u001b[39m\u001b[38;5;241m2\u001b[39m\u001b[38;5;241m+\u001b[39m\u001b[38;5;241m3\u001b[39m\u001b[38;5;241m*\u001b[39mx\u001b[38;5;241m-\u001b[39m\u001b[38;5;241m2\u001b[39m,\u001b[38;5;241m1\u001b[39m,\u001b[38;5;241m3\u001b[39m)\n\u001b[1;32m---> 25\u001b[0m \u001b[43mfun\u001b[49m\u001b[43m(\u001b[49m\u001b[43mx\u001b[49m\u001b[38;5;241;43m*\u001b[39;49m\u001b[38;5;241;43m*\u001b[39;49m\u001b[38;5;241;43m2\u001b[39;49m\u001b[38;5;241;43m-\u001b[39;49m\u001b[38;5;241;43m3\u001b[39;49m\u001b[38;5;241;43m*\u001b[39;49m\u001b[43mx\u001b[49m\u001b[38;5;241;43m*\u001b[39;49m\u001b[38;5;241;43m*\u001b[39;49m\u001b[43m(\u001b[49m\u001b[38;5;241;43m2\u001b[39;49m\u001b[38;5;241;43m/\u001b[39;49m\u001b[38;5;241;43m3\u001b[39;49m\u001b[43m)\u001b[49m\u001b[43m,\u001b[49m\u001b[38;5;241;43m0\u001b[39;49m\u001b[43m,\u001b[49m\u001b[38;5;241;43m2\u001b[39;49m\u001b[43m)\u001b[49m\n",
      "Input \u001b[1;32mIn [4]\u001b[0m, in \u001b[0;36mfun\u001b[1;34m(f, l, u)\u001b[0m\n\u001b[0;32m      7\u001b[0m sd\u001b[38;5;241m=\u001b[39mdiff(fd,x)\n\u001b[0;32m      8\u001b[0m \u001b[38;5;28mprint\u001b[39m(\u001b[38;5;124m\"\u001b[39m\u001b[38;5;124mf\u001b[39m\u001b[38;5;124m'\u001b[39m\u001b[38;5;124m'\u001b[39m\u001b[38;5;124m(x):\u001b[39m\u001b[38;5;124m\"\u001b[39m,sd)\n\u001b[1;32m----> 9\u001b[0m \u001b[38;5;28;01mfor\u001b[39;00m i \u001b[38;5;129;01min\u001b[39;00m roots:\n\u001b[0;32m     10\u001b[0m     \u001b[38;5;28;01mif\u001b[39;00m l\u001b[38;5;241m<\u001b[39m\u001b[38;5;241m=\u001b[39mi\u001b[38;5;241m>\u001b[39m\u001b[38;5;241m=\u001b[39mu:\n\u001b[0;32m     11\u001b[0m         a\u001b[38;5;241m=\u001b[39m[sd\u001b[38;5;241m.\u001b[39msubs(x,i)]\n",
      "\u001b[1;31mTypeError\u001b[0m: 'ConditionSet' object is not iterable"
     ]
    }
   ],
   "source": [
    "def fun(f,l,u):\n",
    "    print(\"f(x):\",f)\n",
    "    fd=diff(f,x)\n",
    "    print(\"f'(x):\",fd)\n",
    "    roots=solveset(fd,x)\n",
    "    print(\"critical points of x:\",roots)\n",
    "    sd=diff(fd,x)\n",
    "    print(\"f''(x):\",sd)\n",
    "    for i in roots:\n",
    "        if l<=i>=u:\n",
    "            a=[sd.subs(x,i)]\n",
    "            if a>0:\n",
    "                print(\"Absolute Miniman occurs at x=\",i)\n",
    "            elif a<0:\n",
    "                print(\"Absolute Maxima occurs at x=\",i)\n",
    "            else:\n",
    "                print(\"Point of Inflection occurs at x=\",i)\n",
    "        else:\n",
    "            print(\"No absolute maxima or minima present within given range.\")     \n",
    "    print()\n",
    "    return\n",
    "\n",
    "fun(-x**2+3*x-2,1,3)\n",
    "\n",
    "fun(x**2-3*x**(2/3),0,2)\n",
    "\n"
   ]
  },
  {
   "cell_type": "markdown",
   "id": "a699155a",
   "metadata": {},
   "source": [
    "Q.07:\n",
    "\n",
    "t=distance/speed\n",
    "t=time for running + time for swimming\n",
    "\n",
    "f(t)=(x/6)+(Sqrt((15-x)^2+1)/2.5)"
   ]
  },
  {
   "cell_type": "markdown",
   "id": "a0deb472",
   "metadata": {},
   "source": [
    "Q.08:"
   ]
  },
  {
   "cell_type": "code",
   "execution_count": 28,
   "id": "e14629d9",
   "metadata": {},
   "outputs": [
    {
     "name": "stdout",
     "output_type": "stream",
     "text": [
      "Revenue function f= p*(1000 - 5*p)\n",
      "f'(p)= 1000 - 10*p\n",
      "Critical Values of p at which revenue will be max or min= {100}\n",
      "f''(p)= -10\n",
      "Revenue will be Maximum at value of p= 100\n",
      "Revenue= 50000\n"
     ]
    }
   ],
   "source": [
    "p=symbols('p')\n",
    "\n",
    "n=1000-5*p   #n=no. of cars rented per day      and    p=charges per day (50<=p>=200)\n",
    "r=n*p        #revenue=no. of cars rented per day*charges per day\n",
    "print(\"Revenue function f=\",r)\n",
    "fd=diff(r,p)\n",
    "print(\"f'(p)=\",fd)\n",
    "critical_points=solveset(fd,p)\n",
    "print(\"Critical Values of p at which revenue will be max or min=\",critical_points)\n",
    "sd=diff(fd)\n",
    "print(\"f''(p)=\",sd)\n",
    "\n",
    "for i in critical_points:\n",
    "    if 50<=i<=200:\n",
    "        a=sd.subs(p,i)\n",
    "        if a>0:\n",
    "            print(\"Revenue will be Minimum at value of p=\",i)\n",
    "            R=r.subs(p,i)\n",
    "            print(\"Revenue=\",R)\n",
    "        elif a<0:\n",
    "            print(\"Revenue will be Maximum at value of p=\",i)\n",
    "            R=r.subs(p,i)\n",
    "            print(\"Revenue=\",R)\n",
    "        else:\n",
    "            print(\"Point of Inflection\")\n"
   ]
  },
  {
   "cell_type": "code",
   "execution_count": null,
   "id": "d42c6b3f",
   "metadata": {},
   "outputs": [],
   "source": []
  }
 ],
 "metadata": {
  "kernelspec": {
   "display_name": "Python 3 (ipykernel)",
   "language": "python",
   "name": "python3"
  },
  "language_info": {
   "codemirror_mode": {
    "name": "ipython",
    "version": 3
   },
   "file_extension": ".py",
   "mimetype": "text/x-python",
   "name": "python",
   "nbconvert_exporter": "python",
   "pygments_lexer": "ipython3",
   "version": "3.8.10"
  }
 },
 "nbformat": 4,
 "nbformat_minor": 5
}
