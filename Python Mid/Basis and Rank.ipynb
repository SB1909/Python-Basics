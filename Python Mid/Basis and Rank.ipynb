{
 "cells": [
  {
   "cell_type": "code",
   "execution_count": 1,
   "id": "f5eafee7",
   "metadata": {},
   "outputs": [],
   "source": [
    "from sympy import Matrix\n",
    "import numpy as np"
   ]
  },
  {
   "cell_type": "code",
   "execution_count": 3,
   "id": "003a29f1",
   "metadata": {},
   "outputs": [
    {
     "name": "stdout",
     "output_type": "stream",
     "text": [
      "Matrix([[2, 8, 1, 1], [3, 7, 0, 1], [4, 6, 1, 1]])\n",
      "Rows of matrix A: 3\n",
      "\n",
      "RREF of Matrix A: Matrix([[1, 0, 0, 1/10], [0, 1, 0, 1/10], [0, 0, 1, 0]])\n",
      "Pivot columns are: (0, 1, 2)\n",
      "Rank of Matrix A= 3\n",
      "Basis column vector:\n",
      " Matrix([[2, 8, 1], [3, 7, 0], [4, 6, 1]])\n",
      "\n",
      "Transpose of matrix A: Matrix([[2, 3, 4], [8, 7, 6], [1, 0, 1], [1, 1, 1]])\n",
      "RREF of transpose of Matrix A: Matrix([[1, 0, 0], [0, 1, 0], [0, 0, 1], [0, 0, 0]])\n",
      "Pivot columns of transpose matrix are: (0, 1, 2)\n",
      "Full rank matrix\n"
     ]
    }
   ],
   "source": [
    "A=Matrix([[2,8,1,1],[3,7,0,1],[4,6,1,1]])\n",
    "print(A)\n",
    "m,n=np.shape(A)     #for rows and columns of matrix\n",
    "print(\"Rows of matrix A:\",m)\n",
    "print()\n",
    "\n",
    "A_rref,A_pivot=A.rref()\n",
    "print(\"RREF of Matrix A:\",A_rref)\n",
    "print(\"Pivot columns are:\",A_pivot)\n",
    "n=len(A_pivot)\n",
    "print(\"Rank of Matrix A=\",n)\n",
    "B=A[:,(A_pivot[0:n])]    #to extract independend vectors from matrix\n",
    "print(\"Basis column vector:\\n\",B)\n",
    "print()\n",
    "\n",
    "a=A.T\n",
    "a_rref,a_pivot=a.rref()\n",
    "print(\"Transpose of matrix A:\",a)\n",
    "print(\"RREF of transpose of Matrix A:\",a_rref)\n",
    "print(\"Pivot columns of transpose matrix are:\",a_pivot)\n",
    "\n",
    "if len(a_pivot)==m:\n",
    "    print(\"Full rank matrix\")\n",
    "else:\n",
    "    print(\"Not a Full Rank Matrix\")"
   ]
  },
  {
   "cell_type": "code",
   "execution_count": null,
   "id": "9c095113",
   "metadata": {},
   "outputs": [],
   "source": []
  }
 ],
 "metadata": {
  "kernelspec": {
   "display_name": "Python 3 (ipykernel)",
   "language": "python",
   "name": "python3"
  },
  "language_info": {
   "codemirror_mode": {
    "name": "ipython",
    "version": 3
   },
   "file_extension": ".py",
   "mimetype": "text/x-python",
   "name": "python",
   "nbconvert_exporter": "python",
   "pygments_lexer": "ipython3",
   "version": "3.8.10"
  }
 },
 "nbformat": 4,
 "nbformat_minor": 5
}
