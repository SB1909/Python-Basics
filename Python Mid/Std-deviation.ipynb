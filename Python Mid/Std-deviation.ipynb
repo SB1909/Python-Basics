{
 "cells": [
  {
   "cell_type": "code",
   "execution_count": 2,
   "id": "c49ff1ba",
   "metadata": {},
   "outputs": [
    {
     "name": "stdout",
     "output_type": "stream",
     "text": [
      "Sample Data points (x):\n",
      " [25, 16, 19, 22, 25, 18]\n",
      "Total no. of observations (N): 6\n"
     ]
    }
   ],
   "source": [
    "x=[25,16,19,22,25,18]\n",
    "print(\"Sample Data points (x):\\n\",x)\n",
    "N=len(x)\n",
    "print(\"Total no. of observations (N):\",N)\n"
   ]
  },
  {
   "cell_type": "code",
   "execution_count": 11,
   "id": "22402243",
   "metadata": {},
   "outputs": [
    {
     "name": "stdout",
     "output_type": "stream",
     "text": [
      "Mean of X is: 20.83\n"
     ]
    }
   ],
   "source": [
    "#mean:\n",
    "mean=round(sum(x)/N,2)\n",
    "print(\"Mean of X is:\",mean)"
   ]
  },
  {
   "cell_type": "code",
   "execution_count": 20,
   "id": "0b0fd484",
   "metadata": {},
   "outputs": [
    {
     "name": "stdout",
     "output_type": "stream",
     "text": [
      "Variance is: 11.805566666666666\n",
      "Std. deviation for given data is: 3.4359229715851702\n"
     ]
    }
   ],
   "source": [
    "#std deviation:\n",
    "diff_l=[]\n",
    "for i in x:\n",
    "    diff=(i-mean)**2\n",
    "    diff_l.append(diff)\n",
    "sum_diff=sum(diff_l)\n",
    "\n",
    "variance=sum_diff/N\n",
    "print(\"Variance is:\",variance)\n",
    "\n",
    "std_dev=variance**(0.5)\n",
    "print(\"Std. deviation for given data is:\",std_dev)"
   ]
  },
  {
   "cell_type": "code",
   "execution_count": null,
   "id": "62893386",
   "metadata": {},
   "outputs": [],
   "source": []
  }
 ],
 "metadata": {
  "kernelspec": {
   "display_name": "Python 3 (ipykernel)",
   "language": "python",
   "name": "python3"
  },
  "language_info": {
   "codemirror_mode": {
    "name": "ipython",
    "version": 3
   },
   "file_extension": ".py",
   "mimetype": "text/x-python",
   "name": "python",
   "nbconvert_exporter": "python",
   "pygments_lexer": "ipython3",
   "version": "3.8.10"
  }
 },
 "nbformat": 4,
 "nbformat_minor": 5
}
