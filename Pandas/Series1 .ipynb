{
 "cells": [
  {
   "cell_type": "code",
   "execution_count": 1,
   "id": "e09d93da",
   "metadata": {},
   "outputs": [],
   "source": [
    "import pandas as pd"
   ]
  },
  {
   "cell_type": "code",
   "execution_count": 2,
   "id": "8fcfc819",
   "metadata": {},
   "outputs": [
    {
     "name": "stdout",
     "output_type": "stream",
     "text": [
      "(1, 2, 3, 4, 'five', 'six', 'seven', 'eight')\n",
      "0        1\n",
      "1        2\n",
      "2        3\n",
      "3        4\n",
      "4     five\n",
      "5      six\n",
      "6    seven\n",
      "7    eight\n",
      "dtype: object\n",
      "[1 2 3 4 'five' 'six' 'seven' 'eight']\n",
      "<class 'pandas.core.series.Series'>\n",
      "1\n",
      "object\n",
      "0       1\n",
      "1       2\n",
      "2       3\n",
      "3       4\n",
      "4    five\n",
      "dtype: object\n",
      "0    1\n",
      "1    2\n",
      "dtype: object\n",
      "3        4\n",
      "4     five\n",
      "5      six\n",
      "6    seven\n",
      "7    eight\n",
      "dtype: object\n",
      "5      six\n",
      "6    seven\n",
      "7    eight\n",
      "dtype: object\n",
      "2       3\n",
      "4    five\n",
      "dtype: object\n",
      "2        1\n",
      "3        2\n",
      "4        3\n",
      "5        4\n",
      "6     five\n",
      "7      six\n",
      "8    seven\n",
      "9    eight\n",
      "Name: Lnb_Series, dtype: object\n"
     ]
    }
   ],
   "source": [
    "tuple1=(1,2,3,4,'five','six','seven','eight')\n",
    "print(tuple1)\n",
    "\n",
    "#tuple to series:\n",
    "\n",
    "series1=pd.Series(tuple1)\n",
    "print(series1)\n",
    "print(series1.values)\n",
    "print(type(series1))\n",
    "print(series1.ndim)\n",
    "print(series1.dtype)\n",
    "\n",
    "#to print top or bottom elements:   for top: head , for bottom: tail\n",
    "\n",
    "print(series1.head())    #by default 5 elements\n",
    "print(series1.head(2))\n",
    "\n",
    "print(series1.tail())\n",
    "print(series1.tail(3))\n",
    "\n",
    "#random sample element from series: (if blank then sample will be 1)\n",
    "\n",
    "print(series1.sample(2))\n",
    "\n",
    "#name and index range for series:\n",
    "\n",
    "series11=pd.Series(tuple1,name='Lnb_Series',index=range(2,10))   \n",
    "print(series11)"
   ]
  },
  {
   "cell_type": "code",
   "execution_count": 3,
   "id": "8029bccf",
   "metadata": {},
   "outputs": [
    {
     "name": "stdout",
     "output_type": "stream",
     "text": [
      "{'lnb1': 'IoT', 'lnb2': 'AI', 'lnb3': 'Devops'}\n",
      "lnb1       IoT\n",
      "lnb2        AI\n",
      "lnb3    Devops\n",
      "dtype: object\n"
     ]
    }
   ],
   "source": [
    "# dict to series:\n",
    "\n",
    "lnb_dict={'lnb1':'IoT','lnb2':'AI','lnb3':'Devops'}\n",
    "print(lnb_dict)\n",
    "\n",
    "series2=pd.Series(lnb_dict)\n",
    "print(series2)\n",
    "\n"
   ]
  },
  {
   "cell_type": "code",
   "execution_count": 4,
   "id": "e40172c1",
   "metadata": {},
   "outputs": [
    {
     "name": "stdout",
     "output_type": "stream",
     "text": [
      "0        1\n",
      "1        2\n",
      "2        3\n",
      "3        4\n",
      "4     five\n",
      "5      six\n",
      "6    seven\n",
      "7    eight\n",
      "dtype: object\n",
      "0        1\n",
      "1        2\n",
      "2        3\n",
      "3        4\n",
      "4     five\n",
      "5      six\n",
      "6    seven\n",
      "7    eight\n",
      "dtype: object\n",
      "0        5\n",
      "1        2\n",
      "2        3\n",
      "3        4\n",
      "4     five\n",
      "5      six\n",
      "6    seven\n",
      "7    eight\n",
      "dtype: object\n",
      "0        5\n",
      "1        2\n",
      "2        3\n",
      "3        4\n",
      "4     five\n",
      "5      six\n",
      "6    seven\n",
      "7    eight\n",
      "dtype: object\n",
      "0       10\n",
      "1        2\n",
      "2        3\n",
      "3        4\n",
      "4     five\n",
      "5      six\n",
      "6    seven\n",
      "7    eight\n",
      "dtype: object\n",
      "0       10\n",
      "1        2\n",
      "2        3\n",
      "3        4\n",
      "4     five\n",
      "5      six\n",
      "6    seven\n",
      "7    eight\n",
      "dtype: object\n"
     ]
    }
   ],
   "source": [
    "#series to series:\n",
    "\n",
    "\n",
    "#if copy=True then if anyone series gets changed, second one will not be changed...\n",
    "series3=pd.Series(series1,copy=True)\n",
    "print(series3)\n",
    "\n",
    "series1[0]=5\n",
    "print(series3)\n",
    "print(series1)\n",
    "\n",
    "#if copy=flase then if anyone series gets changed, second one will also get changed...\n",
    "series4=pd.Series(series1,copy=False) #or\n",
    "series4=pd.Series(series1)\n",
    "print(series4)\n",
    "\n",
    "series1[0]=10\n",
    "print(series4)\n",
    "print(series1)\n",
    "\n"
   ]
  },
  {
   "cell_type": "code",
   "execution_count": 5,
   "id": "b5e5166c",
   "metadata": {},
   "outputs": [
    {
     "name": "stdout",
     "output_type": "stream",
     "text": [
      "10\n",
      "10\n",
      "10\n",
      "10\n",
      "0    10\n",
      "1     2\n",
      "2     3\n",
      "dtype: object\n",
      "IoT\n",
      "AI\n",
      "AI\n",
      "Devops\n",
      "Devops\n"
     ]
    }
   ],
   "source": [
    "#indexing:\n",
    "\n",
    "print(series1[0])\n",
    "print(series1.iloc[0])\n",
    "print(series1.iat[0])\n",
    "print(series1.at[0])\n",
    "\n",
    "print(series1[0:3])\n",
    "\n",
    "print(series2.get('lnb1'))\n",
    "print(series2.at['lnb2'])\n",
    "print(series2.iloc[1])\n",
    "print(series2.iat[2])\n",
    "print(series2[2])"
   ]
  },
  {
   "cell_type": "code",
   "execution_count": 11,
   "id": "02556cf7",
   "metadata": {},
   "outputs": [
    {
     "name": "stdout",
     "output_type": "stream",
     "text": [
      "0       10\n",
      "1        2\n",
      "2        3\n",
      "3        4\n",
      "4     five\n",
      "5      six\n",
      "6    seven\n",
      "7    eight\n",
      "dtype: object\n",
      "[RangeIndex(start=0, stop=8, step=1)]\n",
      "[Index(['lnb1', 'lnb2', 'lnb3'], dtype='object')]\n",
      "Index(['lnb1', 'lnb2', 'lnb3'], dtype='object')\n",
      "['IoT' 'AI' 'Devops']\n",
      "<bound method Series.keys of lnb1       IoT\n",
      "lnb2        AI\n",
      "lnb3    Devops\n",
      "dtype: object>\n"
     ]
    }
   ],
   "source": [
    "#transpose:\n",
    "\n",
    "print(series1.T)\n",
    "\n",
    "#key pair:\n",
    "print(series1.axes)\n",
    "print(series2.axes) #or\n",
    "print(series2.index)\n",
    "print(series2.values)\n",
    "print(series2.keys)"
   ]
  },
  {
   "cell_type": "code",
   "execution_count": 13,
   "id": "99c577d7",
   "metadata": {},
   "outputs": [
    {
     "name": "stdout",
     "output_type": "stream",
     "text": [
      "0       1\n",
      "1       2\n",
      "2       3\n",
      "3     lnb\n",
      "4    None\n",
      "5    True\n",
      "dtype: object\n",
      "False\n",
      "True\n"
     ]
    }
   ],
   "source": [
    "#list to series:\n",
    "\n",
    "hetero_list=[1,2,3,'lnb',None,True]\n",
    "series5=pd.Series(hetero_list)\n",
    "print(series5)\n",
    "\n",
    "#for checing series includes None value or not:\n",
    "print(series1.hasnans)\n",
    "print(series5.hasnans)"
   ]
  },
  {
   "cell_type": "code",
   "execution_count": null,
   "id": "c07cd518",
   "metadata": {},
   "outputs": [],
   "source": []
  }
 ],
 "metadata": {
  "kernelspec": {
   "display_name": "Python 3 (ipykernel)",
   "language": "python",
   "name": "python3"
  },
  "language_info": {
   "codemirror_mode": {
    "name": "ipython",
    "version": 3
   },
   "file_extension": ".py",
   "mimetype": "text/x-python",
   "name": "python",
   "nbconvert_exporter": "python",
   "pygments_lexer": "ipython3",
   "version": "3.8.10"
  }
 },
 "nbformat": 4,
 "nbformat_minor": 5
}
