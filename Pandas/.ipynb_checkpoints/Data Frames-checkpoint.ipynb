{
 "cells": [
  {
   "cell_type": "code",
   "execution_count": 2,
   "id": "d993f647",
   "metadata": {},
   "outputs": [],
   "source": [
    "import pandas as pd\n",
    "import numpy as np"
   ]
  },
  {
   "cell_type": "code",
   "execution_count": 4,
   "id": "4ab24950",
   "metadata": {},
   "outputs": [
    {
     "data": {
      "text/html": [
       "<div>\n",
       "<style scoped>\n",
       "    .dataframe tbody tr th:only-of-type {\n",
       "        vertical-align: middle;\n",
       "    }\n",
       "\n",
       "    .dataframe tbody tr th {\n",
       "        vertical-align: top;\n",
       "    }\n",
       "\n",
       "    .dataframe thead th {\n",
       "        text-align: right;\n",
       "    }\n",
       "</style>\n",
       "<table border=\"1\" class=\"dataframe\">\n",
       "  <thead>\n",
       "    <tr style=\"text-align: right;\">\n",
       "      <th></th>\n",
       "      <th>name</th>\n",
       "      <th>weight</th>\n",
       "      <th>place</th>\n",
       "    </tr>\n",
       "  </thead>\n",
       "  <tbody>\n",
       "    <tr>\n",
       "      <th>0</th>\n",
       "      <td>saurav</td>\n",
       "      <td>50</td>\n",
       "      <td>UP</td>\n",
       "    </tr>\n",
       "    <tr>\n",
       "      <th>1</th>\n",
       "      <td>shruti</td>\n",
       "      <td>45</td>\n",
       "      <td>Agra</td>\n",
       "    </tr>\n",
       "    <tr>\n",
       "      <th>2</th>\n",
       "      <td>kusum</td>\n",
       "      <td>40</td>\n",
       "      <td>Haryana</td>\n",
       "    </tr>\n",
       "  </tbody>\n",
       "</table>\n",
       "</div>"
      ],
      "text/plain": [
       "     name  weight    place\n",
       "0  saurav      50       UP\n",
       "1  shruti      45     Agra\n",
       "2   kusum      40  Haryana"
      ]
     },
     "execution_count": 4,
     "metadata": {},
     "output_type": "execute_result"
    }
   ],
   "source": [
    "#dict-list to data frame(df):\n",
    "d={\"name\":['saurav','shruti','kusum'],'weight':[50,45,40],'place':['UP','Agra','Haryana']}\n",
    "\n",
    "df=pd.DataFrame(d)\n",
    "df"
   ]
  },
  {
   "cell_type": "code",
   "execution_count": 7,
   "id": "75a4baf1",
   "metadata": {},
   "outputs": [
    {
     "name": "stdout",
     "output_type": "stream",
     "text": [
      "             0       1        2\n",
      "name    saurav  shruti    kusum\n",
      "weight      50      45       40\n",
      "place       UP    Agra  Haryana\n",
      "             0       1        2\n",
      "name    saurav  shruti    kusum\n",
      "weight      50      45       40\n",
      "place       UP    Agra  Haryana\n"
     ]
    }
   ],
   "source": [
    "#transpose:\n",
    "print(df.T)\n",
    "#or\n",
    "print(df.transpose())\n"
   ]
  },
  {
   "cell_type": "code",
   "execution_count": 10,
   "id": "ebba13f6",
   "metadata": {},
   "outputs": [
    {
     "data": {
      "text/html": [
       "<div>\n",
       "<style scoped>\n",
       "    .dataframe tbody tr th:only-of-type {\n",
       "        vertical-align: middle;\n",
       "    }\n",
       "\n",
       "    .dataframe tbody tr th {\n",
       "        vertical-align: top;\n",
       "    }\n",
       "\n",
       "    .dataframe thead th {\n",
       "        text-align: right;\n",
       "    }\n",
       "</style>\n",
       "<table border=\"1\" class=\"dataframe\">\n",
       "  <thead>\n",
       "    <tr style=\"text-align: right;\">\n",
       "      <th></th>\n",
       "      <th>1</th>\n",
       "      <th>2</th>\n",
       "      <th>3</th>\n",
       "      <th>4</th>\n",
       "    </tr>\n",
       "  </thead>\n",
       "  <tbody>\n",
       "    <tr>\n",
       "      <th>name</th>\n",
       "      <td>saurav</td>\n",
       "      <td>shruti</td>\n",
       "      <td>kusum</td>\n",
       "      <td>Neema</td>\n",
       "    </tr>\n",
       "    <tr>\n",
       "      <th>age</th>\n",
       "      <td>27</td>\n",
       "      <td>22</td>\n",
       "      <td>20</td>\n",
       "      <td>20</td>\n",
       "    </tr>\n",
       "    <tr>\n",
       "      <th>place</th>\n",
       "      <td>Bihar</td>\n",
       "      <td>Agra</td>\n",
       "      <td>HR</td>\n",
       "      <td>Pahadi</td>\n",
       "    </tr>\n",
       "    <tr>\n",
       "      <th>chapati</th>\n",
       "      <td>1</td>\n",
       "      <td>2</td>\n",
       "      <td>3</td>\n",
       "      <td>chicken</td>\n",
       "    </tr>\n",
       "  </tbody>\n",
       "</table>\n",
       "</div>"
      ],
      "text/plain": [
       "              1       2      3        4\n",
       "name     saurav  shruti  kusum    Neema\n",
       "age          27      22     20       20\n",
       "place     Bihar    Agra     HR   Pahadi\n",
       "chapati       1       2      3  chicken"
      ]
     },
     "execution_count": 10,
     "metadata": {},
     "output_type": "execute_result"
    }
   ],
   "source": [
    "#dict-dict to df:\n",
    "d1={1:{'name':'saurav','age':'27','place':'Bihar','chapati':1},2:{'name':'shruti','age':'22','place':'Agra','chapati':2},\n",
    "    3:{'name':'kusum','age':20,'place':'HR','chapati':3},4:{'name':'Neema','age':'20','place':'Pahadi','chapati':'chicken'}}\n",
    "df1=pd.DataFrame(d1)\n",
    "df1"
   ]
  },
  {
   "cell_type": "code",
   "execution_count": 15,
   "id": "2d7afb13",
   "metadata": {},
   "outputs": [
    {
     "name": "stdout",
     "output_type": "stream",
     "text": [
      "   0  1  2  3\n",
      "0  1  2  3  4\n",
      "1  1  2  3  4\n",
      "2  1  2  3  4\n",
      "3  1  2  3  4\n",
      "   A  B  C  D\n",
      "1  1  2  3  4\n",
      "2  1  2  3  4\n",
      "3  1  2  3  4\n",
      "4  1  2  3  4\n"
     ]
    }
   ],
   "source": [
    "#list-list to df:\n",
    "d2=[[1,2,3,4],[1,2,3,4],[1,2,3,4],[1,2,3,4]]\n",
    "df2=pd.DataFrame(d2)\n",
    "print(df2)\n",
    "\n",
    "#renaming index and column:\n",
    "df3=pd.DataFrame(d2,index=[1,2,3,4],columns=['A','B','C','D'])\n",
    "print(df3)"
   ]
  },
  {
   "cell_type": "code",
   "execution_count": 30,
   "id": "c768d138",
   "metadata": {},
   "outputs": [
    {
     "name": "stdout",
     "output_type": "stream",
     "text": [
      "           0         1         2         3\n",
      "0   0.237801  0.521456  0.829259  0.727212\n",
      "1   0.567675  0.791717  0.918804  0.070279\n",
      "2   0.386843  0.994038  0.204419  0.724350\n",
      "3   0.990054  0.673312  0.329121  0.356265\n",
      "4   0.863614  0.497386  0.401386  0.435885\n",
      "5   0.693612  0.525224  0.060273  0.776222\n",
      "6   0.164406  0.942158  0.265550  0.575710\n",
      "7   0.351168  0.220446  0.097186  0.378193\n",
      "8   0.140599  0.255923  0.119467  0.509850\n",
      "9   0.289122  0.013509  0.395757  0.120657\n",
      "10  0.585203  0.399607  0.839910  0.895469\n",
      "11  0.743421  0.355543  0.047089  0.840147\n",
      "12  0.861703  0.622261  0.916941  0.795026\n",
      "13  0.989941  0.779648  0.410481  0.775455\n",
      "14  0.609975  0.682518  0.812665  0.610796\n",
      "15  0.088968  0.105688  0.203869  0.241005\n",
      "16  0.756333  0.849658  0.877369  0.053409\n",
      "17  0.808416  0.811882  0.707850  0.133153\n",
      "18  0.109293  0.620190  0.096271  0.426239\n",
      "19  0.436114  0.485996  0.701342  0.012847\n",
      "20  0.077453  0.000834  0.608147  0.541877\n",
      "21  0.566927  0.664525  0.464754  0.886629\n",
      "22  0.209709  0.115373  0.021056  0.603932\n",
      "23  0.417678  0.846053  0.405160  0.827944\n",
      "24  0.268262  0.659855  0.141276  0.314288\n",
      "0    0.237801\n",
      "1    0.521456\n",
      "2    0.829259\n",
      "3    0.727212\n",
      "Name: 0, dtype: float64\n",
      "          0         1         2         3\n",
      "0  0.237801  0.521456  0.829259  0.727212\n",
      "1  0.567675  0.791717  0.918804  0.070279\n",
      "2  0.386843  0.994038  0.204419  0.724350\n",
      "          1         2\n",
      "5  0.525224  0.060273\n",
      "6  0.942158  0.265550\n",
      "7  0.220446  0.097186\n",
      "          0         1         2         3\n",
      "0  0.237801  0.521456  0.829259  0.727212\n",
      "1  0.567675  0.791717  0.918804  0.070279\n",
      "2  0.386843  0.994038  0.204419  0.724350\n",
      "3  0.990054  0.673312  0.329121  0.356265\n",
      "4  0.863614  0.497386  0.401386  0.435885\n",
      "           0         1         2         3\n",
      "23  0.417678  0.846053  0.405160  0.827944\n",
      "24  0.268262  0.659855  0.141276  0.314288\n",
      "               0          1          2          3\n",
      "count  25.000000  25.000000  25.000000  25.000000\n",
      "mean    0.488572   0.537392   0.435016   0.505314\n",
      "std     0.293321   0.289526   0.311442   0.284807\n",
      "min     0.077453   0.000834   0.021056   0.012847\n",
      "25%     0.237801   0.355543   0.141276   0.314288\n",
      "50%     0.436114   0.620190   0.401386   0.541877\n",
      "75%     0.743421   0.779648   0.707850   0.775455\n",
      "max     0.990054   0.994038   0.918804   0.895469\n",
      "Int64Index([ 0,  1,  2,  3,  4,  5,  6,  7,  8,  9, 10, 11, 12, 13, 14, 15, 16,\n",
      "            17, 18, 19, 20, 21, 22, 23, 24],\n",
      "           dtype='int64')\n",
      "RangeIndex(start=0, stop=4, step=1)\n",
      "Int64Index([ 0,  1,  2,  3,  4,  5,  6,  7,  8,  9, 10, 11, 12, 13, 14, 15, 16,\n",
      "            17, 18, 19, 20, 21, 22, 23, 24],\n",
      "           dtype='int64') RangeIndex(start=0, stop=4, step=1)\n"
     ]
    }
   ],
   "source": [
    "#from numpy to df:   rand(0 to 1 random 25 numbers,column)\n",
    "newdf=pd.DataFrame(np.random.rand(25,4),index=np.arange(25))\n",
    "print(newdf)\n",
    "\n",
    "# row printing:\n",
    "print(newdf.iloc[0])\n",
    "print(newdf.iloc[0:3])  #row range\n",
    "\n",
    "#row and column printing:\n",
    "print(newdf.iloc[5:8,1:3])\n",
    "\n",
    "#top rows and column (by default 5):\n",
    "print(newdf.head())\n",
    "print(newdf.tail(2))\n",
    "\n",
    "#desrcibe data frame:\n",
    "print(newdf.describe())\n",
    "\n",
    "#index and column printing:\n",
    "print(newdf.index)\n",
    "print(newdf.columns)\n",
    "print(newdf.index,newdf.columns)"
   ]
  },
  {
   "cell_type": "code",
   "execution_count": 61,
   "id": "42c51d2e",
   "metadata": {},
   "outputs": [
    {
     "name": "stdout",
     "output_type": "stream",
     "text": [
      "<class 'numpy.ndarray'>\n",
      "   0    1   2\n",
      "0  1  2.0  SB\n",
      "1  2  3.0  SH\n",
      "        A    B   C\n",
      "first   1  2.0  SB\n",
      "second  2  3.0  SH\n"
     ]
    }
   ],
   "source": [
    "#from structured nd-array:\n",
    "data=np.array([[1,2.0,'SB'],[2,3.0,'SH']])\n",
    "print(type(data))\n",
    "new_data=pd.DataFrame(data)\n",
    "print(new_data)\n",
    "\n",
    "#rename index and column:\n",
    "data1=pd.DataFrame(data,index=['first','second'],columns=['A','B','C'])\n",
    "print(data1)"
   ]
  },
  {
   "cell_type": "code",
   "execution_count": 70,
   "id": "a7b16781",
   "metadata": {},
   "outputs": [
    {
     "name": "stdout",
     "output_type": "stream",
     "text": [
      "first     1\n",
      "second    2\n",
      "Name: A, dtype: object\n",
      "1\n",
      "         B   C\n",
      "first  2.0  SB\n",
      "        A    B   C    D\n",
      "first   1  2.0  SB  2.5\n",
      "second  2  3.0  SH  5.6\n",
      "        A    B   C    D\n",
      "first   1  2.0  SB  2.5\n",
      "second  2  3.0  SH  5.6\n",
      "third   2  4.0  RB  7.5\n"
     ]
    },
    {
     "name": "stderr",
     "output_type": "stream",
     "text": [
      "C:\\Users\\LENOVO1\\AppData\\Local\\Temp\\ipykernel_3232\\116114834.py:15: FutureWarning: The frame.append method is deprecated and will be removed from pandas in a future version. Use pandas.concat instead.\n",
      "  print(data1.append(data2))\n"
     ]
    }
   ],
   "source": [
    "#accessing data frame:\n",
    "print(data1['A'])  #printing column A\n",
    "\n",
    "print(data1['A'][0])  #printing element\n",
    "\n",
    "print(data1.iloc[0:1,1:3]) #range=row,column\n",
    "\n",
    "\n",
    "#adding new column:\n",
    "data1['D']=[2.5,5.6]\n",
    "print(data1)\n",
    "\n",
    "#adding new row:\n",
    "data2=pd.DataFrame([[2,4.0,'RB',7.5]],index=['third'],columns=['A','B','C','D'])\n",
    "print(data1.append(data2))"
   ]
  },
  {
   "cell_type": "code",
   "execution_count": null,
   "id": "28ad790a",
   "metadata": {},
   "outputs": [],
   "source": []
  }
 ],
 "metadata": {
  "kernelspec": {
   "display_name": "Python 3 (ipykernel)",
   "language": "python",
   "name": "python3"
  },
  "language_info": {
   "codemirror_mode": {
    "name": "ipython",
    "version": 3
   },
   "file_extension": ".py",
   "mimetype": "text/x-python",
   "name": "python",
   "nbconvert_exporter": "python",
   "pygments_lexer": "ipython3",
   "version": "3.8.10"
  }
 },
 "nbformat": 4,
 "nbformat_minor": 5
}
