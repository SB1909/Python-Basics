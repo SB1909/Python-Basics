{
 "cells": [
  {
   "cell_type": "code",
   "execution_count": 1,
   "id": "c3c5d1f0",
   "metadata": {},
   "outputs": [],
   "source": [
    "import pandas as pd\n",
    "import numpy as np\n",
    "from numpy.core.numeric import NaN"
   ]
  },
  {
   "cell_type": "code",
   "execution_count": 2,
   "id": "29024836",
   "metadata": {},
   "outputs": [
    {
     "name": "stdout",
     "output_type": "stream",
     "text": [
      "[nan, 0, 2, 5, nan, 7, True, nan]\n",
      "0     NaN\n",
      "1       0\n",
      "2       2\n",
      "3       5\n",
      "4     NaN\n",
      "5       7\n",
      "6    True\n",
      "7     NaN\n",
      "dtype: object\n",
      "AI\n",
      "IoT\n"
     ]
    }
   ],
   "source": [
    "incomplete_list=[NaN,0,2,5,NaN,7,True,NaN]\n",
    "print(incomplete_list)\n",
    "\n",
    "s1=pd.Series(incomplete_list)\n",
    "print(s1)\n",
    "\n",
    "tuple1=(1,2,3,4,'five','six','seven','eight')\n",
    "series1=pd.Series(tuple1)\n",
    "\n",
    "lnb_dict={'lnb1':'IoT','lnb2':'AI','lnb3':'Devops'}\n",
    "series2=pd.Series(lnb_dict)\n",
    "\n",
    "#printing Minimum and Maximum:\n",
    "\n",
    "print(series2.agg('min'))\n",
    "print(series2.agg('max'))\n",
    "\n"
   ]
  },
  {
   "cell_type": "code",
   "execution_count": 3,
   "id": "901e2318",
   "metadata": {},
   "outputs": [
    {
     "name": "stdout",
     "output_type": "stream",
     "text": [
      "(0, 1)\n",
      "(1, 2)\n",
      "(2, 3)\n",
      "(3, 4)\n",
      "(4, 'five')\n",
      "(5, 'six')\n",
      "(6, 'seven')\n",
      "(7, 'eight')\n",
      "0        1\n",
      "1        2\n",
      "2        3\n",
      "3        4\n",
      "5      six\n",
      "6    seven\n",
      "7    eight\n",
      "dtype: object\n",
      "1       0\n",
      "2       2\n",
      "3       5\n",
      "5       7\n",
      "6    True\n",
      "dtype: object\n"
     ]
    }
   ],
   "source": [
    "#for loop:\n",
    "\n",
    "for i in series1.items():\n",
    "    print(i)\n",
    "    \n",
    "#pop method to remove element:\n",
    "series1.pop(4)\n",
    "print(series1)\n",
    "\n",
    "#to remove all NaN elements:\n",
    "x=s1.dropna()\n",
    "print(x)\n"
   ]
  },
  {
   "cell_type": "code",
   "execution_count": 16,
   "id": "63c869bd",
   "metadata": {},
   "outputs": [
    {
     "name": "stdout",
     "output_type": "stream",
     "text": [
      "a     6\n",
      "b    10\n",
      "c    -3\n",
      "d    11\n",
      "dtype: int64\n",
      "a   -4\n",
      "b   -6\n",
      "c    9\n",
      "d   -3\n",
      "dtype: int64\n",
      "a     5\n",
      "b    16\n",
      "c   -18\n",
      "d    28\n",
      "dtype: int64\n",
      "a    0.200000\n",
      "b    0.250000\n",
      "c   -0.500000\n",
      "d    0.571429\n",
      "dtype: float64\n",
      "10\n",
      "24\n",
      "2.5\n",
      "a    1\n",
      "b    2\n",
      "c    3\n",
      "d    4\n",
      "dtype: int64\n",
      "-1.3333333333333333\n",
      "5\n",
      "0     NaN\n",
      "1       0\n",
      "2       2\n",
      "3       5\n",
      "4     NaN\n",
      "5       7\n",
      "6    True\n",
      "7     NaN\n",
      "Name: data, dtype: object\n",
      "False\n"
     ]
    }
   ],
   "source": [
    "#Operations:\n",
    "\n",
    "s2=pd.Series([1,2,3,4],index=['a','b','c','d'])\n",
    "s3=pd.Series([5,8,-6,7],index=['a','b','c','d'])\n",
    "\n",
    "print(s2.add(s3))\n",
    "print(s2.sub(s3))\n",
    "print(s2.mul(s3))\n",
    "print(s2.div(s3))\n",
    "\n",
    "print(s2.sum())   #sum of all elements\n",
    "\n",
    "print(s2.prod())  #product of all elements\n",
    "\n",
    "print(s2.mean())\n",
    "\n",
    "print(s2.abs())  #absolute values\n",
    "\n",
    "print(s2.cov(s3)) #covariance\n",
    "\n",
    "print(s1.count()) #counting all elements except Nan/None\n",
    "\n",
    "print(s1.rename('data'))\n",
    "\n",
    "print(s1.is_unique)  #True=No repeated values are there\n"
   ]
  },
  {
   "cell_type": "code",
   "execution_count": null,
   "id": "80b06aa4",
   "metadata": {},
   "outputs": [],
   "source": []
  }
 ],
 "metadata": {
  "kernelspec": {
   "display_name": "Python 3 (ipykernel)",
   "language": "python",
   "name": "python3"
  },
  "language_info": {
   "codemirror_mode": {
    "name": "ipython",
    "version": 3
   },
   "file_extension": ".py",
   "mimetype": "text/x-python",
   "name": "python",
   "nbconvert_exporter": "python",
   "pygments_lexer": "ipython3",
   "version": "3.8.10"
  }
 },
 "nbformat": 4,
 "nbformat_minor": 5
}
