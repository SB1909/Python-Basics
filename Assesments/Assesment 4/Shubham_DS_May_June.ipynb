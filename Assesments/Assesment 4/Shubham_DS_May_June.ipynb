{
 "cells": [
  {
   "cell_type": "code",
   "execution_count": 39,
   "metadata": {
    "colab": {
     "base_uri": "https://localhost:8080/"
    },
    "id": "4whHBOqvvJy7",
    "outputId": "8f12e342-ba9c-49ba-e34b-35cfb74f7d07"
   },
   "outputs": [
    {
     "name": "stdout",
     "output_type": "stream",
     "text": [
      "Enter a code:3in02468\n",
      "Farming Method: Cage\n",
      "Farm Id: 02468\n",
      "Country of Origin: India\n"
     ]
    }
   ],
   "source": [
    "#Q.01\n",
    "import pandas as pd\n",
    "def desc(code):\n",
    "    code=code.upper()\n",
    "    farm_meth={'0':'Organic','1':'Free Range','2':'Barn','3':'Cage'}\n",
    "    #country={'UK':'United Kindom','NL':'Nether Lands','ES':'Spain'}\n",
    "    country=pd.read_csv('country_codes.txt')\n",
    "    if code[0] in farm_meth and len(code)>=7:\n",
    "        print(\"Farming Method:\",farm_meth[code[0]])\n",
    "        print(\"Farm Id:\",code[3:])\n",
    "        print(\"Country of Origin:\",country['Country-Name'][code[1:3]])\n",
    "    else:\n",
    "        print(\"Invalid Code\")\n",
    "    return\n",
    "desc(input(\"Enter a code:\"))"
   ]
  },
  {
   "cell_type": "code",
   "execution_count": 57,
   "metadata": {},
   "outputs": [
    {
     "name": "stdout",
     "output_type": "stream",
     "text": [
      "Enter total no. of peaks and pits:3\n",
      "Enter the starting point altitude:1800\n",
      "Enter point 1 (peak or pit) altitude:2100\n",
      "Enter point 2 (peak or pit) altitude:1950\n",
      "Enter point 3 (peak or pit) altitude:2240\n",
      "Enter the ending point altitude:1800\n",
      "Cumulative Elevation Gain: 590.0 m\n"
     ]
    }
   ],
   "source": [
    "#Q.02\n",
    "n=int(input(\"Enter total no. of peaks and pits:\"))\n",
    "a=float(input(\"Enter the starting point altitude:\"))\n",
    "alts=[a]\n",
    "for i in range(n):\n",
    "    b=float(input(\"Enter point \"+str(i+1)+\" (peak or pit) altitude:\"))\n",
    "    alts.append(b)\n",
    "c=float(input(\"Enter the ending point altitude:\"))\n",
    "alts.append(c)\n",
    "Elv=[0]\n",
    "i=0\n",
    "while i<(len(alts)-1):\n",
    "    if alts[i+1]>alts[i]:\n",
    "        e=alts[i+1]-alts[i]\n",
    "        Elv.append(e)\n",
    "        i=i+1\n",
    "    else:\n",
    "        i=i+1\n",
    "Total_Elv=sum(Elv)\n",
    "print(\"Cumulative Elevation Gain:\",Total_Elv,\"m\")"
   ]
  },
  {
   "cell_type": "code",
   "execution_count": 59,
   "metadata": {
    "colab": {
     "base_uri": "https://localhost:8080/"
    },
    "id": "E1GS-qEr1IBq",
    "outputId": "41fb51c8-ea00-4665-c3c7-bc2d56287c30"
   },
   "outputs": [
    {
     "name": "stdout",
     "output_type": "stream",
     "text": [
      "Enter value of first numerator:4\n",
      "Enter value of first denominator:6\n",
      "Enter value of second numerator:20\n",
      "Enter value of second denominator:30\n",
      "These fractions are equal.\n"
     ]
    }
   ],
   "source": [
    "#Q.03\n",
    "\n",
    "a=int(input(\"Enter value of first numerator:\"))\n",
    "b=int(input(\"Enter value of first denominator:\"))\n",
    "c=int(input(\"Enter value of second numerator:\"))\n",
    "d=int(input(\"Enter value of second denominator:\"))\n",
    "if (a*d==c*b):\n",
    "  print('These fractions are equal.')\n",
    "else:\n",
    "  print('These fractions are not equal.')"
   ]
  },
  {
   "cell_type": "code",
   "execution_count": 49,
   "metadata": {
    "id": "ijqtroo04n4H"
   },
   "outputs": [],
   "source": [
    "#Q.04\n",
    "\n"
   ]
  },
  {
   "cell_type": "code",
   "execution_count": null,
   "metadata": {},
   "outputs": [],
   "source": []
  },
  {
   "cell_type": "code",
   "execution_count": null,
   "metadata": {},
   "outputs": [],
   "source": []
  }
 ],
 "metadata": {
  "colab": {
   "collapsed_sections": [],
   "name": "Shubham_DS_May-June.ipynb",
   "provenance": []
  },
  "kernelspec": {
   "display_name": "Python 3 (ipykernel)",
   "language": "python",
   "name": "python3"
  },
  "language_info": {
   "codemirror_mode": {
    "name": "ipython",
    "version": 3
   },
   "file_extension": ".py",
   "mimetype": "text/x-python",
   "name": "python",
   "nbconvert_exporter": "python",
   "pygments_lexer": "ipython3",
   "version": "3.8.10"
  }
 },
 "nbformat": 4,
 "nbformat_minor": 1
}
