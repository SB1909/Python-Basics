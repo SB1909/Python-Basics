{
 "cells": [
  {
   "cell_type": "markdown",
   "id": "a569d76c",
   "metadata": {},
   "source": [
    "Q.06:"
   ]
  },
  {
   "cell_type": "code",
   "execution_count": 8,
   "id": "15bf3292",
   "metadata": {},
   "outputs": [
    {
     "name": "stdout",
     "output_type": "stream",
     "text": [
      "Product of P and Q:\n"
     ]
    },
    {
     "data": {
      "text/latex": [
       "$\\displaystyle \\left[\\begin{matrix}9 & 20 & 24 & 29\\\\7 & 18 & 15 & 14\\\\10 & 30 & 15 & 5\\end{matrix}\\right]$"
      ],
      "text/plain": [
       "Matrix([\n",
       "[ 9, 20, 24, 29],\n",
       "[ 7, 18, 15, 14],\n",
       "[10, 30, 15,  5]])"
      ]
     },
     "execution_count": 8,
     "metadata": {},
     "output_type": "execute_result"
    }
   ],
   "source": [
    "import sympy\n",
    "import numpy as np\n",
    "P=sympy.Matrix([[1,7],[2,3],[5,0]])\n",
    "Q=sympy.Matrix([[2,6,3,1],[1,2,3,4]])\n",
    "prod=P@Q\n",
    "print(\"Product of P and Q:\")\n",
    "prod                        "
   ]
  },
  {
   "cell_type": "code",
   "execution_count": 7,
   "id": "2cc0406d",
   "metadata": {},
   "outputs": [
    {
     "name": "stdout",
     "output_type": "stream",
     "text": [
      "ShapeError: Matrix size mismatch: (2, 4) * (3, 2)\n",
      "No. of Columns of 1st Matrix is not equal to No. of Rows of 2nd Matrix\n"
     ]
    }
   ],
   "source": [
    "try:\n",
    "    X=Q@P\n",
    "    print(\"Product of Q and P:\",X)\n",
    "except sympy.matrices.common.ShapeError:\n",
    "    print(\"ShapeError: Matrix size mismatch: (2, 4) * (3, 2)\")\n",
    "    print(\"No. of Columns of 1st Matrix is not equal to No. of Rows of 2nd Matrix\")"
   ]
  },
  {
   "cell_type": "code",
   "execution_count": null,
   "id": "ea8e43b7",
   "metadata": {},
   "outputs": [],
   "source": [
    "   "
   ]
  }
 ],
 "metadata": {
  "kernelspec": {
   "display_name": "Python 3 (ipykernel)",
   "language": "python",
   "name": "python3"
  },
  "language_info": {
   "codemirror_mode": {
    "name": "ipython",
    "version": 3
   },
   "file_extension": ".py",
   "mimetype": "text/x-python",
   "name": "python",
   "nbconvert_exporter": "python",
   "pygments_lexer": "ipython3",
   "version": "3.8.10"
  }
 },
 "nbformat": 4,
 "nbformat_minor": 5
}
