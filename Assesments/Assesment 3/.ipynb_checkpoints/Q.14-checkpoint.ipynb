{
 "cells": [
  {
   "cell_type": "code",
   "execution_count": 5,
   "id": "01d706d0",
   "metadata": {},
   "outputs": [],
   "source": [
    "import numpy as np\n",
    "from sympy import Matrix"
   ]
  },
  {
   "cell_type": "code",
   "execution_count": 40,
   "id": "2463b081",
   "metadata": {},
   "outputs": [
    {
     "name": "stdout",
     "output_type": "stream",
     "text": [
      "RREF of Matrix A:\n",
      " Matrix([[1, 0, 0, 1/10], [0, 1, 0, 1/10], [0, 0, 1, 0]])\n",
      "Pivot columns of Matrix A:\n",
      " (0, 1, 2)\n",
      "Rank of Matrix A: 3\n",
      "Matrix B containing all independend vectors of matrix A:\n",
      " Matrix([[2, 8, 1], [3, 7, 0], [4, 6, 1]])\n"
     ]
    }
   ],
   "source": [
    "def my_make_lin_ind(A):\n",
    "    A_rref,A_pivot=A.rref()\n",
    "    print(\"RREF of Matrix A:\\n\",A_rref)\n",
    "    print(\"Pivot columns of Matrix A:\\n\",A_pivot)\n",
    "    n=len(A_pivot)\n",
    "    print(\"Rank of Matrix A:\",n)\n",
    "    B=A[:,(A_pivot[0:n])]\n",
    "    print(\"Matrix B containing all independend vectors of matrix A:\\n\",B)    \n",
    "    return\n",
    "A=Matrix([[2,8,1,1],[3,7,0,1],[4,6,1,1]])\n",
    "my_make_lin_ind(A)"
   ]
  },
  {
   "cell_type": "code",
   "execution_count": null,
   "id": "29733939",
   "metadata": {},
   "outputs": [],
   "source": []
  }
 ],
 "metadata": {
  "kernelspec": {
   "display_name": "Python 3 (ipykernel)",
   "language": "python",
   "name": "python3"
  },
  "language_info": {
   "codemirror_mode": {
    "name": "ipython",
    "version": 3
   },
   "file_extension": ".py",
   "mimetype": "text/x-python",
   "name": "python",
   "nbconvert_exporter": "python",
   "pygments_lexer": "ipython3",
   "version": "3.8.10"
  }
 },
 "nbformat": 4,
 "nbformat_minor": 5
}
