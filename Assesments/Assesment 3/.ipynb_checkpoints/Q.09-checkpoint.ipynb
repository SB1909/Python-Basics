{
 "cells": [
  {
   "cell_type": "code",
   "execution_count": 1,
   "id": "fe053215",
   "metadata": {},
   "outputs": [],
   "source": [
    "import numpy as np"
   ]
  },
  {
   "cell_type": "code",
   "execution_count": 2,
   "id": "858f8e70",
   "metadata": {},
   "outputs": [
    {
     "name": "stdout",
     "output_type": "stream",
     "text": [
      "Values of [x1,x2,x3]:\n"
     ]
    },
    {
     "data": {
      "text/plain": [
       "array([[ 2.20833333],\n",
       "       [-2.58333333],\n",
       "       [-0.18333333]])"
      ]
     },
     "execution_count": 2,
     "metadata": {},
     "output_type": "execute_result"
    }
   ],
   "source": [
    "A=np.array([[4,3,-5],[-2,-4,5],[8,8,0]])\n",
    "y=np.array([[2],[5],[-3]])\n",
    "res=np.linalg.solve(A,y)\n",
    "print(\"Values of [x1,x2,x3]:\")\n",
    "res"
   ]
  },
  {
   "cell_type": "code",
   "execution_count": null,
   "id": "3bce36d9",
   "metadata": {},
   "outputs": [],
   "source": []
  }
 ],
 "metadata": {
  "kernelspec": {
   "display_name": "Python 3 (ipykernel)",
   "language": "python",
   "name": "python3"
  },
  "language_info": {
   "codemirror_mode": {
    "name": "ipython",
    "version": 3
   },
   "file_extension": ".py",
   "mimetype": "text/x-python",
   "name": "python",
   "nbconvert_exporter": "python",
   "pygments_lexer": "ipython3",
   "version": "3.8.10"
  }
 },
 "nbformat": 4,
 "nbformat_minor": 5
}
