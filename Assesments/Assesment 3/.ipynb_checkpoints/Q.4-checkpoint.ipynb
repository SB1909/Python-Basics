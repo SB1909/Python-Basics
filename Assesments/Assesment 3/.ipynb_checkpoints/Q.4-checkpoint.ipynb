{
 "cells": [
  {
   "cell_type": "code",
   "execution_count": 5,
   "id": "b07e9f8f",
   "metadata": {},
   "outputs": [
    {
     "name": "stdout",
     "output_type": "stream",
     "text": [
      "Row Vectors:\n",
      " [[ 0  3  2]\n",
      " [ 4  1  1]\n",
      " [ 0 -2  0]]\n",
      "Solution:\n",
      " [[ 0.5]\n",
      " [-2. ]\n",
      " [-1. ]]\n"
     ]
    }
   ],
   "source": [
    "import numpy as np\n",
    "row_vect=np.array([[0,3,2],[4,1,1],[0,-2,0]])\n",
    "print(\"Row Vectors:\\n\",row_vect)\n",
    "x=np.array([[-8],[-1],[4]])\n",
    "sol=np.linalg.solve(row_vect,x)\n",
    "print(\"Solution:\\n\",sol)\n",
    "#manually calclated values for coefficients:[0.5,-2,-1]"
   ]
  },
  {
   "cell_type": "code",
   "execution_count": 6,
   "id": "8f7328e1",
   "metadata": {},
   "outputs": [
    {
     "name": "stdout",
     "output_type": "stream",
     "text": [
      "Linear Combination of given vectors for solution[0.5,-2-1]:\n"
     ]
    },
    {
     "ename": "NameError",
     "evalue": "name 'X' is not defined",
     "output_type": "error",
     "traceback": [
      "\u001b[1;31m---------------------------------------------------------------------------\u001b[0m",
      "\u001b[1;31mNameError\u001b[0m                                 Traceback (most recent call last)",
      "Input \u001b[1;32mIn [6]\u001b[0m, in \u001b[0;36m<cell line: 4>\u001b[1;34m()\u001b[0m\n\u001b[0;32m      2\u001b[0m Linear_Combination\u001b[38;5;241m=\u001b[39mrow_vect\u001b[38;5;129m@sol\u001b[39m\n\u001b[0;32m      3\u001b[0m \u001b[38;5;28mprint\u001b[39m(\u001b[38;5;124m\"\u001b[39m\u001b[38;5;124mLinear Combination of given vectors for solution[0.5,-2-1]:\u001b[39m\u001b[38;5;124m\"\u001b[39m)\n\u001b[1;32m----> 4\u001b[0m \u001b[43mX\u001b[49m\n",
      "\u001b[1;31mNameError\u001b[0m: name 'X' is not defined"
     ]
    }
   ],
   "source": [
    "#linear equation:\n",
    "Linear_Combination=row_vect@sol\n",
    "print(\"Linear Combination of given vectors for solution[0.5,-2-1]:\\n\",Linear_Combination)\n"
   ]
  },
  {
   "cell_type": "code",
   "execution_count": null,
   "id": "a64cacbd",
   "metadata": {},
   "outputs": [],
   "source": []
  }
 ],
 "metadata": {
  "kernelspec": {
   "display_name": "Python 3 (ipykernel)",
   "language": "python",
   "name": "python3"
  },
  "language_info": {
   "codemirror_mode": {
    "name": "ipython",
    "version": 3
   },
   "file_extension": ".py",
   "mimetype": "text/x-python",
   "name": "python",
   "nbconvert_exporter": "python",
   "pygments_lexer": "ipython3",
   "version": "3.8.10"
  }
 },
 "nbformat": 4,
 "nbformat_minor": 5
}
