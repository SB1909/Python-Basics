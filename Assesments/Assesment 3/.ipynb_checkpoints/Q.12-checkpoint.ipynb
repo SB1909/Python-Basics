{
 "cells": [
  {
   "cell_type": "code",
   "execution_count": 1,
   "id": "2d6e95d1",
   "metadata": {},
   "outputs": [],
   "source": [
    "import numpy as np"
   ]
  },
  {
   "cell_type": "code",
   "execution_count": 3,
   "id": "d3d7926f",
   "metadata": {},
   "outputs": [
    {
     "name": "stdout",
     "output_type": "stream",
     "text": [
      "Matrix multiplication distributes over matrix addition (A(B+C)=AB+AC).\n"
     ]
    }
   ],
   "source": [
    "A=np.array([[2,3,4],[5,6,7],[8,9,10]])\n",
    "B=np.array([[2,3],[4,5],[6,7]])\n",
    "C=np.array([[1,4],[2,5],[3,6]])\n",
    "RHS=A@(B+C)\n",
    "LHS=A@B+A@C\n",
    "if np.array_equal(RHS,LHS):\n",
    "    print(\"Matrix multiplication distributes over matrix addition i.e. (A(B+C)=AB+AC).\")\n",
    "else:\n",
    "    print(\"A(B+C) is not equal to (AB+AC)\")"
   ]
  },
  {
   "cell_type": "code",
   "execution_count": null,
   "id": "c52bdd1b",
   "metadata": {},
   "outputs": [],
   "source": []
  }
 ],
 "metadata": {
  "kernelspec": {
   "display_name": "Python 3 (ipykernel)",
   "language": "python",
   "name": "python3"
  },
  "language_info": {
   "codemirror_mode": {
    "name": "ipython",
    "version": 3
   },
   "file_extension": ".py",
   "mimetype": "text/x-python",
   "name": "python",
   "nbconvert_exporter": "python",
   "pygments_lexer": "ipython3",
   "version": "3.8.10"
  }
 },
 "nbformat": 4,
 "nbformat_minor": 5
}
