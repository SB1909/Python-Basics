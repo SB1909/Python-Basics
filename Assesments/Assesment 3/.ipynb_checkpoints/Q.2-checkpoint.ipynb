{
 "cells": [
  {
   "cell_type": "code",
   "execution_count": 1,
   "id": "26d8d7d4",
   "metadata": {},
   "outputs": [],
   "source": [
    "import numpy as np"
   ]
  },
  {
   "cell_type": "code",
   "execution_count": 2,
   "id": "15fab7f6",
   "metadata": {},
   "outputs": [
    {
     "name": "stdout",
     "output_type": "stream",
     "text": [
      "[[1]\n",
      " [2]\n",
      " [3]]\n",
      "3.7416573867739413\n",
      "6.0\n",
      "3.0\n",
      "3\n",
      "Infinite Norm of vector is equal to the Max element in vector\n"
     ]
    }
   ],
   "source": [
    "x=np.array([[1],[2],[3]])\n",
    "print(x)\n",
    "L_euc=np.linalg.norm(x,2)\n",
    "print(L_euc)\n",
    "L_Manh=np.linalg.norm(x,1)\n",
    "print(L_Manh)\n",
    "L_Max=np.linalg.norm(x,np.inf)\n",
    "print(L_Max)\n",
    "z=max(x)\n",
    "print(z[0])\n",
    "if z[0]==L_Max:\n",
    "    print(\"Infinite Norm of vector is equal to the Max element in vector\")\n",
    "else:\n",
    "    print(\"Non Equivalent\")"
   ]
  },
  {
   "cell_type": "code",
   "execution_count": null,
   "id": "f8eb1e66",
   "metadata": {},
   "outputs": [],
   "source": []
  }
 ],
 "metadata": {
  "kernelspec": {
   "display_name": "Python 3 (ipykernel)",
   "language": "python",
   "name": "python3"
  },
  "language_info": {
   "codemirror_mode": {
    "name": "ipython",
    "version": 3
   },
   "file_extension": ".py",
   "mimetype": "text/x-python",
   "name": "python",
   "nbconvert_exporter": "python",
   "pygments_lexer": "ipython3",
   "version": "3.8.10"
  }
 },
 "nbformat": 4,
 "nbformat_minor": 5
}
