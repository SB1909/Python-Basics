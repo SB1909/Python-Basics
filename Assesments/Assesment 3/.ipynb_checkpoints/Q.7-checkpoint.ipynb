{
 "cells": [
  {
   "cell_type": "code",
   "execution_count": 1,
   "id": "c8068fdb",
   "metadata": {},
   "outputs": [],
   "source": [
    "import numpy as np\n",
    "import sympy"
   ]
  },
  {
   "cell_type": "code",
   "execution_count": 2,
   "id": "b4c4b54a",
   "metadata": {},
   "outputs": [
    {
     "name": "stdout",
     "output_type": "stream",
     "text": [
      "Given Matrix M:\n",
      " [[0 2 1 3]\n",
      " [3 2 8 1]\n",
      " [1 0 0 3]\n",
      " [0 3 2 1]]\n",
      "Determinant of matrix M:\n",
      " -38.0\n"
     ]
    }
   ],
   "source": [
    "M=np.array([[0,2,1,3],[3,2,8,1],[1,0,0,3],[0,3,2,1]])\n",
    "print(\"Given Matrix M:\\n\",M)\n",
    "Det=np.round(np.linalg.det(M),2)\n",
    "print(\"Determinant of matrix M:\\n\",Det)"
   ]
  },
  {
   "cell_type": "code",
   "execution_count": 3,
   "id": "b0af31ca",
   "metadata": {},
   "outputs": [
    {
     "name": "stdout",
     "output_type": "stream",
     "text": [
      "Identity Matrix I:\n",
      " [[1. 0. 0. 0.]\n",
      " [0. 1. 0. 0.]\n",
      " [0. 0. 1. 0.]\n",
      " [0. 0. 0. 1.]]\n",
      "Product of M and I:\n",
      " [[0. 2. 1. 3.]\n",
      " [3. 2. 8. 1.]\n",
      " [1. 0. 0. 3.]\n",
      " [0. 3. 2. 1.]]\n",
      "Equal to given matrix M\n"
     ]
    }
   ],
   "source": [
    "I=np.eye(4,4,0)\n",
    "print(\"Identity Matrix I:\\n\",I)\n",
    "prod=M@I\n",
    "print(\"Product of M and I:\\n\",prod)\n",
    "if np.array_equal(M,prod):\n",
    "    print(\"Equal to given matrix M\")\n",
    "else:\n",
    "    print(\"Not Equal to given matrix M\")"
   ]
  },
  {
   "cell_type": "code",
   "execution_count": null,
   "id": "2fc85ecc",
   "metadata": {},
   "outputs": [],
   "source": []
  }
 ],
 "metadata": {
  "kernelspec": {
   "display_name": "Python 3 (ipykernel)",
   "language": "python",
   "name": "python3"
  },
  "language_info": {
   "codemirror_mode": {
    "name": "ipython",
    "version": 3
   },
   "file_extension": ".py",
   "mimetype": "text/x-python",
   "name": "python",
   "nbconvert_exporter": "python",
   "pygments_lexer": "ipython3",
   "version": "3.8.10"
  }
 },
 "nbformat": 4,
 "nbformat_minor": 5
}
