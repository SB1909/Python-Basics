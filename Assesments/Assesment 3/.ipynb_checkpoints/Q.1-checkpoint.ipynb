{
 "cells": [
  {
   "cell_type": "code",
   "execution_count": 2,
   "id": "7559b331",
   "metadata": {},
   "outputs": [],
   "source": [
    "import numpy as np"
   ]
  },
  {
   "cell_type": "code",
   "execution_count": 3,
   "id": "a776160f",
   "metadata": {},
   "outputs": [
    {
     "name": "stdout",
     "output_type": "stream",
     "text": [
      "[[1]\n",
      " [2]\n",
      " [3]]\n",
      "(3, 1)\n",
      "[4 5 6]\n",
      "(3,)\n"
     ]
    }
   ],
   "source": [
    "vector_column=np.array([[1],[2],[3]])\n",
    "print(vector_column)\n",
    "print(np.shape(vector_column))\n",
    "vector_row=np.array([4,5,6])\n",
    "print(vector_row)\n",
    "print(np.shape(vector_row))"
   ]
  },
  {
   "cell_type": "code",
   "execution_count": null,
   "id": "b4c95321",
   "metadata": {},
   "outputs": [],
   "source": []
  }
 ],
 "metadata": {
  "kernelspec": {
   "display_name": "Python 3 (ipykernel)",
   "language": "python",
   "name": "python3"
  },
  "language_info": {
   "codemirror_mode": {
    "name": "ipython",
    "version": 3
   },
   "file_extension": ".py",
   "mimetype": "text/x-python",
   "name": "python",
   "nbconvert_exporter": "python",
   "pygments_lexer": "ipython3",
   "version": "3.8.10"
  }
 },
 "nbformat": 4,
 "nbformat_minor": 5
}
