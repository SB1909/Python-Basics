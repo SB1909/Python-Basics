{
 "cells": [
  {
   "cell_type": "code",
   "execution_count": 1,
   "id": "507a8bac",
   "metadata": {},
   "outputs": [],
   "source": [
    "import numpy as np\n",
    "v=np.array([1,1,0])\n",
    "w=np.array([1,0,0])\n",
    "u=np.array([0,0,1])"
   ]
  },
  {
   "cell_type": "code",
   "execution_count": 2,
   "id": "1d93e202",
   "metadata": {},
   "outputs": [
    {
     "name": "stdout",
     "output_type": "stream",
     "text": [
      "cos_theta: 0.7071067811865475\n",
      "Angle between vectors v and w (in degree): 45.0\n",
      "Dependend set of Vectors (v,w)\n"
     ]
    }
   ],
   "source": [
    "#Angle between v and w:\n",
    "cos_theta=(v@w)/(np.linalg.norm(v,2)*np.linalg.norm(w,2))\n",
    "print(\"cos_theta:\",cos_theta)\n",
    "theta=np.round((np.arccos(cos_theta)*(180/np.pi)),2)\n",
    "print(\"Angle between vectors v and w (in degree):\",theta)\n",
    "if theta==90:\n",
    "    print(\"Linearly Independend set of Vectors (v,w)\")\n",
    "else:\n",
    "    print(\"Dependend set of Vectors (v,w)\")"
   ]
  },
  {
   "cell_type": "code",
   "execution_count": 3,
   "id": "5dedc6c4",
   "metadata": {},
   "outputs": [
    {
     "name": "stdout",
     "output_type": "stream",
     "text": [
      "cos_theta: 0.0\n",
      "Angle between vectors v and u (in degree): 90.0\n",
      "Linearly Independend set of Vectors (v,u)\n"
     ]
    }
   ],
   "source": [
    "#Angle between v and u:\n",
    "cos_theta=(v@u)/(np.linalg.norm(v,2)*np.linalg.norm(u,2))\n",
    "print(\"cos_theta:\",cos_theta)\n",
    "theta=np.round((np.arccos(cos_theta)*(180/np.pi)),2)\n",
    "print(\"Angle between vectors v and u (in degree):\",theta)\n",
    "if theta==90:\n",
    "    print(\"Linearly Independend set of Vectors (v,u)\")\n",
    "else:\n",
    "    print(\"Dependend set of Vectors (v,u)\")"
   ]
  },
  {
   "cell_type": "code",
   "execution_count": 4,
   "id": "1346f868",
   "metadata": {},
   "outputs": [
    {
     "name": "stdout",
     "output_type": "stream",
     "text": [
      "cos_theta: 0.0\n",
      "Angle between vectors w and u (in degree): 90.0\n",
      "Linearly Independend set of Vectors (w,u)\n"
     ]
    }
   ],
   "source": [
    "#Angle between v and u:\n",
    "cos_theta=(w@u)/(np.linalg.norm(w,2)*np.linalg.norm(u,2))\n",
    "print(\"cos_theta:\",cos_theta)\n",
    "theta=np.round((np.arccos(cos_theta)*(180/np.pi)),2)\n",
    "print(\"Angle between vectors w and u (in degree):\",theta)\n",
    "if theta==90:\n",
    "    print(\"Linearly Independend set of Vectors (w,u)\")\n",
    "else:\n",
    "    print(\"Dependend set of Vectors (w,u)\")"
   ]
  },
  {
   "cell_type": "code",
   "execution_count": null,
   "id": "c58ae998",
   "metadata": {},
   "outputs": [],
   "source": []
  }
 ],
 "metadata": {
  "kernelspec": {
   "display_name": "Python 3 (ipykernel)",
   "language": "python",
   "name": "python3"
  },
  "language_info": {
   "codemirror_mode": {
    "name": "ipython",
    "version": 3
   },
   "file_extension": ".py",
   "mimetype": "text/x-python",
   "name": "python",
   "nbconvert_exporter": "python",
   "pygments_lexer": "ipython3",
   "version": "3.8.10"
  }
 },
 "nbformat": 4,
 "nbformat_minor": 5
}
