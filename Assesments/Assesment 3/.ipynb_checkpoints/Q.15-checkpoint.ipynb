{
 "cells": [
  {
   "cell_type": "code",
   "execution_count": null,
   "id": "0359c20b",
   "metadata": {},
   "outputs": [],
   "source": [
    "import numpy as np"
   ]
  },
  {
   "cell_type": "code",
   "execution_count": null,
   "id": "424d3d22",
   "metadata": {},
   "outputs": [],
   "source": [
    "def my_flow_calculator(S,d):\n",
    "    f[0]=S[0]\n",
    "    f[1]=d[3]\n",
    "    f[3]=\n",
    "    \n",
    "    \n",
    "    return f\n",
    "S=np.array([[5],[15]])\n",
    "d=np.array([[4],[4],[4],[4],[4]])\n",
    "print(\"Flows in network f:\\n\",my_flow_calculator(S,d))\n"
   ]
  }
 ],
 "metadata": {
  "kernelspec": {
   "display_name": "Python 3 (ipykernel)",
   "language": "python",
   "name": "python3"
  },
  "language_info": {
   "codemirror_mode": {
    "name": "ipython",
    "version": 3
   },
   "file_extension": ".py",
   "mimetype": "text/x-python",
   "name": "python",
   "nbconvert_exporter": "python",
   "pygments_lexer": "ipython3",
   "version": "3.8.10"
  }
 },
 "nbformat": 4,
 "nbformat_minor": 5
}
