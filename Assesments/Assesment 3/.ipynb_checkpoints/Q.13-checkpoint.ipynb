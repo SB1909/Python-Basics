{
 "cells": [
  {
   "cell_type": "code",
   "execution_count": 1,
   "id": "ee354927",
   "metadata": {},
   "outputs": [],
   "source": [
    "import numpy as np"
   ]
  },
  {
   "cell_type": "code",
   "execution_count": 26,
   "id": "7cc4ad15",
   "metadata": {},
   "outputs": [
    {
     "name": "stdout",
     "output_type": "stream",
     "text": [
      "Angle between v1 and v2:\n",
      " [12.93315449] deg or [0.22572613] rad\n",
      "Output:1\n"
     ]
    }
   ],
   "source": [
    "def my_is_orthogonal(v1,v2,tol): #(v1 and v2 are same size vectors & tol=scalar value>0)\n",
    "    theta=np.arccos((v1.T@v2)/(np.linalg.norm(v1,2)*np.linalg.norm(v2,2)))\n",
    "    theta_d=theta*(180/np.pi)\n",
    "    print(\"Angle between v1 and v2:\\n\",theta_d[0],\"deg or\",theta[0],\"rad\")\n",
    "    if ((np.pi/2)-theta)<tol:\n",
    "        print(\"Output:1\")\n",
    "    else:\n",
    "        print(\"Output:0\")\n",
    "    return\n",
    "x=np.array([[1],[2],[3]])\n",
    "y=np.array([[4],[5],[6]])\n",
    "z=2\n",
    "my_is_orthogonal(x,y,z)"
   ]
  },
  {
   "cell_type": "code",
   "execution_count": null,
   "id": "ba1b153a",
   "metadata": {},
   "outputs": [],
   "source": []
  }
 ],
 "metadata": {
  "kernelspec": {
   "display_name": "Python 3 (ipykernel)",
   "language": "python",
   "name": "python3"
  },
  "language_info": {
   "codemirror_mode": {
    "name": "ipython",
    "version": 3
   },
   "file_extension": ".py",
   "mimetype": "text/x-python",
   "name": "python",
   "nbconvert_exporter": "python",
   "pygments_lexer": "ipython3",
   "version": "3.8.10"
  }
 },
 "nbformat": 4,
 "nbformat_minor": 5
}
