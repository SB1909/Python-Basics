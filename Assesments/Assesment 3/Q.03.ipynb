{
 "cells": [
  {
   "cell_type": "code",
   "execution_count": 1,
   "id": "d10ae977",
   "metadata": {},
   "outputs": [],
   "source": [
    "import numpy as np"
   ]
  },
  {
   "cell_type": "code",
   "execution_count": 9,
   "id": "816d5a4e",
   "metadata": {},
   "outputs": [
    {
     "name": "stdout",
     "output_type": "stream",
     "text": [
      "length of vector v: 13.784048752090222\n",
      "length of vector w: 13.152946437965905\n",
      "Dot Product of vector v and w: 101\n",
      "cos_theta: 0.5570850729659234\n",
      "Angle in radian: 0.979924710443726\n",
      "Angle between vectors v and w (in degree): 56.14555014900476\n"
     ]
    }
   ],
   "source": [
    "v=np.array([10,9,3])\n",
    "w=np.array([2,5,12])\n",
    "L1=np.linalg.norm(v,2)\n",
    "print(\"length of vector v:\",L1)\n",
    "L2=np.linalg.norm(w,2)\n",
    "print(\"length of vector w:\",L2)\n",
    "Num=v@w\n",
    "print(\"Dot Product of vector v and w:\",Num)\n",
    "cos_theta=(v@w)/(L1*L2)\n",
    "print(\"cos_theta:\",cos_theta)\n",
    "theta_r=np.arccos(cos_theta)\n",
    "print(\"Angle in radian:\",theta_r)\n",
    "theta=theta_r*(180/np.pi)\n",
    "print(\"Angle between vectors v and w (in degree):\",theta)"
   ]
  },
  {
   "cell_type": "code",
   "execution_count": null,
   "id": "1a5ca162",
   "metadata": {},
   "outputs": [],
   "source": []
  }
 ],
 "metadata": {
  "kernelspec": {
   "display_name": "Python 3 (ipykernel)",
   "language": "python",
   "name": "python3"
  },
  "language_info": {
   "codemirror_mode": {
    "name": "ipython",
    "version": 3
   },
   "file_extension": ".py",
   "mimetype": "text/x-python",
   "name": "python",
   "nbconvert_exporter": "python",
   "pygments_lexer": "ipython3",
   "version": "3.8.10"
  }
 },
 "nbformat": 4,
 "nbformat_minor": 5
}
