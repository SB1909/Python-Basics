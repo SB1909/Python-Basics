{
 "cells": [
  {
   "cell_type": "markdown",
   "id": "d2e57453",
   "metadata": {},
   "source": [
    "SOLUTION 1:"
   ]
  },
  {
   "cell_type": "code",
   "execution_count": 34,
   "id": "894eef18",
   "metadata": {},
   "outputs": [
    {
     "name": "stdout",
     "output_type": "stream",
     "text": [
      "Leap year between 1500 and 2010: 124\n"
     ]
    }
   ],
   "source": [
    "x=[]\n",
    "for i in range(1500,2010):\n",
    "    if i%4==0:\n",
    "        x.append(i)\n",
    "a=len(x)\n",
    "y=list(filter(lambda i:(i%100==0 and i%400!=0),x))\n",
    "b=len(y)\n",
    "Leap_Year=a-b\n",
    "print(\"Leap year between 1500 and 2010:\",Leap_Year)"
   ]
  },
  {
   "cell_type": "markdown",
   "id": "da19e947",
   "metadata": {},
   "source": [
    "SOLUTION 2:"
   ]
  },
  {
   "cell_type": "code",
   "execution_count": 35,
   "id": "de4f5845",
   "metadata": {},
   "outputs": [
    {
     "data": {
      "text/plain": [
       "dict_keys(['A', 'B', 'C'])"
      ]
     },
     "execution_count": 35,
     "metadata": {},
     "output_type": "execute_result"
    }
   ],
   "source": [
    "D={\"A\":'a',\"B\":'b',\"C\":'c'}\n",
    "D.keys()"
   ]
  },
  {
   "cell_type": "markdown",
   "id": "0f49ba69",
   "metadata": {},
   "source": [
    "SOLUTION 3:"
   ]
  },
  {
   "cell_type": "code",
   "execution_count": 41,
   "id": "2293e678",
   "metadata": {},
   "outputs": [
    {
     "name": "stdout",
     "output_type": "stream",
     "text": [
      "great\n"
     ]
    }
   ],
   "source": [
    "X=\"Python is great!\"\n",
    "print(X[10:15])"
   ]
  },
  {
   "cell_type": "markdown",
   "id": "f3a10fdb",
   "metadata": {},
   "source": [
    "SOLUTION 4:"
   ]
  },
  {
   "cell_type": "code",
   "execution_count": 43,
   "id": "a022f881",
   "metadata": {},
   "outputs": [
    {
     "name": "stdout",
     "output_type": "stream",
     "text": [
      "Tip: 16.3935\n"
     ]
    }
   ],
   "source": [
    "def my_tip_calc(bill,party):\n",
    "    if party<6:\n",
    "        tip=0.15*bill\n",
    "    elif party<8:\n",
    "        tip=0.18*bill\n",
    "    elif party<11:\n",
    "        tip=0.20*bill\n",
    "    elif party>=11:\n",
    "        tip=0.25*bill\n",
    "    return tip\n",
    "t=my_tip_calc(109.29,3)\n",
    "print(\"Tip:\",t)"
   ]
  },
  {
   "cell_type": "markdown",
   "id": "0cebb414",
   "metadata": {},
   "source": [
    "SOLUTION 5:"
   ]
  },
  {
   "cell_type": "code",
   "execution_count": 49,
   "id": "bb627be8",
   "metadata": {},
   "outputs": [
    {
     "name": "stdout",
     "output_type": "stream",
     "text": [
      "Enter a percentage:86.9\n",
      "Grade: B\n"
     ]
    }
   ],
   "source": [
    "def my_letter_grader(percent):\n",
    "\n",
    "    if percent>=97:\n",
    "        grade='A+'\n",
    "    elif percent>=93:\n",
    "        grade='A'\n",
    "    elif percent>=90:\n",
    "        grade='A-'\n",
    "    elif percent>=87:\n",
    "        grade='B+'\n",
    "    elif percent>=83:\n",
    "        grade='B'\n",
    "    elif percent>=80:\n",
    "        grade='B-'\n",
    "    elif percent>=77:\n",
    "        grade='C+'   \n",
    "    elif percent>=73:\n",
    "        grade='C'        \n",
    "    elif percent>=70:\n",
    "        grade='C-'\n",
    "    elif percent>=67:\n",
    "        grade='D+'\n",
    "    elif percent>=63:\n",
    "        grade='D'\n",
    "    elif percent>=60:\n",
    "        grade='D-'\n",
    "    elif percent<60:\n",
    "        grade='F'   \n",
    "    return grade\n",
    "p=float(input(\"Enter a percentage:\"))\n",
    "x=my_letter_grader(p)\n",
    "print(\"Grade:\",x)"
   ]
  },
  {
   "cell_type": "markdown",
   "id": "3fe876d5",
   "metadata": {},
   "source": [
    "SOLUTION 6: (wrong ans)"
   ]
  },
  {
   "cell_type": "code",
   "execution_count": 31,
   "id": "9c6f76eb",
   "metadata": {},
   "outputs": [
    {
     "name": "stdout",
     "output_type": "stream",
     "text": [
      "alarm!\n"
     ]
    }
   ],
   "source": [
    "'''\n",
    "def my_nuke_alarm(s1,s2,s3): #tolerance\n",
    "    if ((84<s1<104) and (86<s2<106)) or ((86<s2<106) and (80<s3<100)) or ((84<s1<104) and (80<s3<100)):\n",
    "        x='normal'\n",
    "    else:\n",
    "        x='alarm!'\n",
    "    return x\n",
    "t=my_nuke_alarm(94,96,80)\n",
    "print(t)\n",
    "'''\n",
    "def my_nuke_alarm(s1,s2,s3):  #difference between two sensors\n",
    "    if (s1-s2>10) or (s1-s3>10) or (s2-s3>10):\n",
    "        x='alarm!'\n",
    "    else:\n",
    "        x='normal'\n",
    "    return x\n",
    "t=my_nuke_alarm(94,96,80)\n",
    "print(t)"
   ]
  },
  {
   "cell_type": "markdown",
   "id": "d7461ae5",
   "metadata": {},
   "source": [
    "SOLUTION 7: (Not submitted)"
   ]
  },
  {
   "cell_type": "code",
   "execution_count": 1,
   "id": "9c1f70b2",
   "metadata": {},
   "outputs": [
    {
     "name": "stdout",
     "output_type": "stream",
     "text": [
      "Eq(100*1.1**t, 500)\n",
      "Years required to achieve goal: 16.89\n"
     ]
    }
   ],
   "source": [
    "import sympy as sp\n",
    "def my_saving_plan(P0,i,goal):\n",
    "    n=1\n",
    "    t=sp.symbols('t')\n",
    "    eq=sp.Eq(P0*((1+((i/100)/n))**(n*t)),goal)\n",
    "    res=sp.solve(eq)    #output is in the form of dictionary\n",
    "    return round(res[0],2)\n",
    "y=my_saving_plan(100,10,500)\n",
    "print(\"Years required to achieve goal:\",y)"
   ]
  },
  {
   "cell_type": "markdown",
   "id": "99d6347b",
   "metadata": {},
   "source": [
    "SOLUTION 8: (Not submitted)"
   ]
  },
  {
   "cell_type": "code",
   "execution_count": 18,
   "id": "f6dcf428",
   "metadata": {},
   "outputs": [
    {
     "name": "stdout",
     "output_type": "stream",
     "text": [
      "{m: 10, o: 15}\n",
      "m: [10.] , n: [15.]\n"
     ]
    }
   ],
   "source": [
    "import sympy as sp\n",
    "m,o=sp.symbols('m o')\n",
    "eq1=sp.Eq(20*m+10*o,350)\n",
    "eq2=sp.Eq(17*m+22*o,500)\n",
    "res=sp.solve((eq1,eq2),(m,o))\n",
    "print(res)\n",
    "\n",
    "import numpy as np\n",
    "A=np.array([[20,10],[17,22]])\n",
    "y=np.array([[350],[500]])\n",
    "res1=np.linalg.solve(A,y)\n",
    "print(\"m:\",res1[0],\", n:\",res1[1])"
   ]
  },
  {
   "cell_type": "markdown",
   "id": "0c9e2eed",
   "metadata": {},
   "source": [
    "SOLUTION 9:"
   ]
  },
  {
   "cell_type": "code",
   "execution_count": 73,
   "id": "749a16d4",
   "metadata": {},
   "outputs": [
    {
     "name": "stdout",
     "output_type": "stream",
     "text": [
      "RREF of A: Matrix([[1, 0, 0], [0, 1, 0], [0, 0, 1]])\n",
      "Basis Vector Position of A: (0, 1, 2)\n",
      "Rank of matrix: 3\n",
      "Basis vector matrix: Matrix([[2, 3, 4], [4, 5, 6], [1, 0, 1]])\n"
     ]
    }
   ],
   "source": [
    "import sympy\n",
    "  \n",
    "A=sympy.Matrix([[2,3,4],[4,5,6],[1,0,1]])\n",
    "A_rref,A_pivot=A.rref()\n",
    "print(\"RREF of A:\",A_rref)\n",
    "print(\"Basis Vector Position of A:\",A_pivot)\n",
    "n=len(A_pivot)\n",
    "print(\"Rank of matrix:\",n)\n",
    "B=A[:,A_pivot[0:n]]\n",
    "print(\"Basis vector matrix:\",B)"
   ]
  },
  {
   "cell_type": "markdown",
   "id": "767fd5fc",
   "metadata": {},
   "source": [
    "SOLUTION 10:"
   ]
  },
  {
   "cell_type": "code",
   "execution_count": 70,
   "id": "91a65e7d",
   "metadata": {},
   "outputs": [
    {
     "name": "stdout",
     "output_type": "stream",
     "text": [
      "Characteristic Equation (A-lambda(I))x=0\n",
      "Eigen Value: [ 6.16227766 -0.16227766]\n",
      "Eigen Vector:\n",
      " [[ 0.84515425 -0.84515425]\n",
      " [ 0.53452248  0.53452248]]\n",
      "First lambda Value: 6.16227766016838\n",
      "First Eigen Vector: [0.84515425 0.53452248]\n",
      "Verified Ax=Lambda(x)\n"
     ]
    }
   ],
   "source": [
    "import numpy as np\n",
    "from numpy.linalg import eig\n",
    "A=np.array([[3, 5],[2, 3]])\n",
    "I=np.eye(2,2,0)\n",
    "print(\"Characteristic Equation (A-lambda(I))x=0\")\n",
    "w,v=eig(A)\n",
    "print('Eigen Value:',w)\n",
    "print('Eigen Vector:\\n',v)\n",
    "lmda=w[0]\n",
    "print(\"First lambda Value:\",lmda)\n",
    "x=v[:,0]\n",
    "print(\"First Eigen Vector:\",x)\n",
    "LHS=A@x\n",
    "RHS=lmda*x\n",
    "if np.array_equal(LHS,RHS):\n",
    "    print(\"Verified Ax=Lambda(x)\")\n",
    "else:\n",
    "    print(\"Not verified\")"
   ]
  },
  {
   "cell_type": "code",
   "execution_count": null,
   "id": "70383a53",
   "metadata": {},
   "outputs": [],
   "source": []
  }
 ],
 "metadata": {
  "kernelspec": {
   "display_name": "Python 3 (ipykernel)",
   "language": "python",
   "name": "python3"
  },
  "language_info": {
   "codemirror_mode": {
    "name": "ipython",
    "version": 3
   },
   "file_extension": ".py",
   "mimetype": "text/x-python",
   "name": "python",
   "nbconvert_exporter": "python",
   "pygments_lexer": "ipython3",
   "version": "3.8.10"
  }
 },
 "nbformat": 4,
 "nbformat_minor": 5
}
