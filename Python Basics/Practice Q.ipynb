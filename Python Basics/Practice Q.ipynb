{
 "cells": [
  {
   "attachments": {},
   "cell_type": "markdown",
   "id": "0a760502",
   "metadata": {},
   "source": [
    "Function to remove repeated adjacent words from string for given random number."
   ]
  },
  {
   "cell_type": "code",
   "execution_count": 87,
   "id": "f890682b",
   "metadata": {},
   "outputs": [
    {
     "name": "stdout",
     "output_type": "stream",
     "text": [
      "Enter set of alphabets:vvinaapauuaut\n",
      "vvinaapauuaut\n",
      "Enter a value of random number R:2\n",
      "Value of R: 2\n",
      "Output: i n p u t\n"
     ]
    }
   ],
   "source": [
    "set_of_alpha=input(\"Enter set of alphabets:\")\n",
    "set_alpha=list(set_of_alpha.lower())\n",
    "print(set_of_alpha)\n",
    "R=int(input(\"Enter a value of random number R:\"))\n",
    "print(\"Value of R:\",R)\n",
    "if 2<=R<=50:\n",
    "    n=len(set_alpha)\n",
    "    i=0\n",
    "    while i<n:\n",
    "        s=set_alpha[i:i+R]\n",
    "        if len(set(s))==1 and len(s)==R:\n",
    "            for k in range(R):\n",
    "                set_alpha.remove(set_alpha[i])  \n",
    "            n=len(set_alpha)\n",
    "            i=0\n",
    "        else:\n",
    "            i=i+1\n",
    "    output=\" \"\n",
    "    op=output.join(set_alpha)\n",
    "    print(\"Output:\",op)\n",
    "else:\n",
    "    print(\"Incorrect value of R (2<=R<=50)\")"
   ]
  }
 ],
 "metadata": {
  "kernelspec": {
   "display_name": "Python 3 (ipykernel)",
   "language": "python",
   "name": "python3"
  },
  "language_info": {
   "codemirror_mode": {
    "name": "ipython",
    "version": 3
   },
   "file_extension": ".py",
   "mimetype": "text/x-python",
   "name": "python",
   "nbconvert_exporter": "python",
   "pygments_lexer": "ipython3",
   "version": "3.8.10"
  }
 },
 "nbformat": 4,
 "nbformat_minor": 5
}
